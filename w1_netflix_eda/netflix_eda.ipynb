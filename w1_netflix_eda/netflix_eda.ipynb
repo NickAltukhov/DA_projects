{
 "cells": [
  {
   "cell_type": "code",
   "execution_count": 1,
   "id": "bc541019-9b08-4430-bb76-b1440a95cb49",
   "metadata": {},
   "outputs": [],
   "source": [
    "import pandas as pd\n",
    "import numpy as np\n",
    "import seaborn as sns\n",
    "import matplotlib.pyplot as plt\n",
    "from scipy.stats import stats, shapiro, kstest, norm\n",
    "from wordcloud import WordCloud\n",
    "import re"
   ]
  },
  {
   "cell_type": "code",
   "execution_count": 2,
   "id": "4af211cd-87c5-49c6-88ae-e483f20d0b70",
   "metadata": {
    "editable": true,
    "slideshow": {
     "slide_type": ""
    },
    "tags": []
   },
   "outputs": [],
   "source": [
    "df = pd.read_csv('data/netflix_titles.csv')"
   ]
  },
  {
   "cell_type": "code",
   "execution_count": 3,
   "id": "000c0b83-576e-4154-94cc-7bcc6a6cebb2",
   "metadata": {
    "panel-layout": {
     "height": 1075283.5,
     "visible": true,
     "width": 100
    }
   },
   "outputs": [
    {
     "data": {
      "text/html": [
       "<div>\n",
       "<style scoped>\n",
       "    .dataframe tbody tr th:only-of-type {\n",
       "        vertical-align: middle;\n",
       "    }\n",
       "\n",
       "    .dataframe tbody tr th {\n",
       "        vertical-align: top;\n",
       "    }\n",
       "\n",
       "    .dataframe thead th {\n",
       "        text-align: right;\n",
       "    }\n",
       "</style>\n",
       "<table border=\"1\" class=\"dataframe\">\n",
       "  <thead>\n",
       "    <tr style=\"text-align: right;\">\n",
       "      <th></th>\n",
       "      <th>show_id</th>\n",
       "      <th>type</th>\n",
       "      <th>title</th>\n",
       "      <th>director</th>\n",
       "      <th>cast</th>\n",
       "      <th>country</th>\n",
       "      <th>date_added</th>\n",
       "      <th>release_year</th>\n",
       "      <th>rating</th>\n",
       "      <th>duration</th>\n",
       "      <th>listed_in</th>\n",
       "      <th>description</th>\n",
       "    </tr>\n",
       "  </thead>\n",
       "  <tbody>\n",
       "    <tr>\n",
       "      <th>0</th>\n",
       "      <td>s1</td>\n",
       "      <td>Movie</td>\n",
       "      <td>Dick Johnson Is Dead</td>\n",
       "      <td>Kirsten Johnson</td>\n",
       "      <td>NaN</td>\n",
       "      <td>United States</td>\n",
       "      <td>September 25, 2021</td>\n",
       "      <td>2020</td>\n",
       "      <td>PG-13</td>\n",
       "      <td>90 min</td>\n",
       "      <td>Documentaries</td>\n",
       "      <td>As her father nears the end of his life, filmm...</td>\n",
       "    </tr>\n",
       "    <tr>\n",
       "      <th>1</th>\n",
       "      <td>s2</td>\n",
       "      <td>TV Show</td>\n",
       "      <td>Blood &amp; Water</td>\n",
       "      <td>NaN</td>\n",
       "      <td>Ama Qamata, Khosi Ngema, Gail Mabalane, Thaban...</td>\n",
       "      <td>South Africa</td>\n",
       "      <td>September 24, 2021</td>\n",
       "      <td>2021</td>\n",
       "      <td>TV-MA</td>\n",
       "      <td>2 Seasons</td>\n",
       "      <td>International TV Shows, TV Dramas, TV Mysteries</td>\n",
       "      <td>After crossing paths at a party, a Cape Town t...</td>\n",
       "    </tr>\n",
       "    <tr>\n",
       "      <th>2</th>\n",
       "      <td>s3</td>\n",
       "      <td>TV Show</td>\n",
       "      <td>Ganglands</td>\n",
       "      <td>Julien Leclercq</td>\n",
       "      <td>Sami Bouajila, Tracy Gotoas, Samuel Jouy, Nabi...</td>\n",
       "      <td>NaN</td>\n",
       "      <td>September 24, 2021</td>\n",
       "      <td>2021</td>\n",
       "      <td>TV-MA</td>\n",
       "      <td>1 Season</td>\n",
       "      <td>Crime TV Shows, International TV Shows, TV Act...</td>\n",
       "      <td>To protect his family from a powerful drug lor...</td>\n",
       "    </tr>\n",
       "    <tr>\n",
       "      <th>3</th>\n",
       "      <td>s4</td>\n",
       "      <td>TV Show</td>\n",
       "      <td>Jailbirds New Orleans</td>\n",
       "      <td>NaN</td>\n",
       "      <td>NaN</td>\n",
       "      <td>NaN</td>\n",
       "      <td>September 24, 2021</td>\n",
       "      <td>2021</td>\n",
       "      <td>TV-MA</td>\n",
       "      <td>1 Season</td>\n",
       "      <td>Docuseries, Reality TV</td>\n",
       "      <td>Feuds, flirtations and toilet talk go down amo...</td>\n",
       "    </tr>\n",
       "    <tr>\n",
       "      <th>4</th>\n",
       "      <td>s5</td>\n",
       "      <td>TV Show</td>\n",
       "      <td>Kota Factory</td>\n",
       "      <td>NaN</td>\n",
       "      <td>Mayur More, Jitendra Kumar, Ranjan Raj, Alam K...</td>\n",
       "      <td>India</td>\n",
       "      <td>September 24, 2021</td>\n",
       "      <td>2021</td>\n",
       "      <td>TV-MA</td>\n",
       "      <td>2 Seasons</td>\n",
       "      <td>International TV Shows, Romantic TV Shows, TV ...</td>\n",
       "      <td>In a city of coaching centers known to train I...</td>\n",
       "    </tr>\n",
       "    <tr>\n",
       "      <th>...</th>\n",
       "      <td>...</td>\n",
       "      <td>...</td>\n",
       "      <td>...</td>\n",
       "      <td>...</td>\n",
       "      <td>...</td>\n",
       "      <td>...</td>\n",
       "      <td>...</td>\n",
       "      <td>...</td>\n",
       "      <td>...</td>\n",
       "      <td>...</td>\n",
       "      <td>...</td>\n",
       "      <td>...</td>\n",
       "    </tr>\n",
       "    <tr>\n",
       "      <th>8802</th>\n",
       "      <td>s8803</td>\n",
       "      <td>Movie</td>\n",
       "      <td>Zodiac</td>\n",
       "      <td>David Fincher</td>\n",
       "      <td>Mark Ruffalo, Jake Gyllenhaal, Robert Downey J...</td>\n",
       "      <td>United States</td>\n",
       "      <td>November 20, 2019</td>\n",
       "      <td>2007</td>\n",
       "      <td>R</td>\n",
       "      <td>158 min</td>\n",
       "      <td>Cult Movies, Dramas, Thrillers</td>\n",
       "      <td>A political cartoonist, a crime reporter and a...</td>\n",
       "    </tr>\n",
       "    <tr>\n",
       "      <th>8803</th>\n",
       "      <td>s8804</td>\n",
       "      <td>TV Show</td>\n",
       "      <td>Zombie Dumb</td>\n",
       "      <td>NaN</td>\n",
       "      <td>NaN</td>\n",
       "      <td>NaN</td>\n",
       "      <td>July 1, 2019</td>\n",
       "      <td>2018</td>\n",
       "      <td>TV-Y7</td>\n",
       "      <td>2 Seasons</td>\n",
       "      <td>Kids' TV, Korean TV Shows, TV Comedies</td>\n",
       "      <td>While living alone in a spooky town, a young g...</td>\n",
       "    </tr>\n",
       "    <tr>\n",
       "      <th>8804</th>\n",
       "      <td>s8805</td>\n",
       "      <td>Movie</td>\n",
       "      <td>Zombieland</td>\n",
       "      <td>Ruben Fleischer</td>\n",
       "      <td>Jesse Eisenberg, Woody Harrelson, Emma Stone, ...</td>\n",
       "      <td>United States</td>\n",
       "      <td>November 1, 2019</td>\n",
       "      <td>2009</td>\n",
       "      <td>R</td>\n",
       "      <td>88 min</td>\n",
       "      <td>Comedies, Horror Movies</td>\n",
       "      <td>Looking to survive in a world taken over by zo...</td>\n",
       "    </tr>\n",
       "    <tr>\n",
       "      <th>8805</th>\n",
       "      <td>s8806</td>\n",
       "      <td>Movie</td>\n",
       "      <td>Zoom</td>\n",
       "      <td>Peter Hewitt</td>\n",
       "      <td>Tim Allen, Courteney Cox, Chevy Chase, Kate Ma...</td>\n",
       "      <td>United States</td>\n",
       "      <td>January 11, 2020</td>\n",
       "      <td>2006</td>\n",
       "      <td>PG</td>\n",
       "      <td>88 min</td>\n",
       "      <td>Children &amp; Family Movies, Comedies</td>\n",
       "      <td>Dragged from civilian life, a former superhero...</td>\n",
       "    </tr>\n",
       "    <tr>\n",
       "      <th>8806</th>\n",
       "      <td>s8807</td>\n",
       "      <td>Movie</td>\n",
       "      <td>Zubaan</td>\n",
       "      <td>Mozez Singh</td>\n",
       "      <td>Vicky Kaushal, Sarah-Jane Dias, Raaghav Chanan...</td>\n",
       "      <td>India</td>\n",
       "      <td>March 2, 2019</td>\n",
       "      <td>2015</td>\n",
       "      <td>TV-14</td>\n",
       "      <td>111 min</td>\n",
       "      <td>Dramas, International Movies, Music &amp; Musicals</td>\n",
       "      <td>A scrappy but poor boy worms his way into a ty...</td>\n",
       "    </tr>\n",
       "  </tbody>\n",
       "</table>\n",
       "<p>8807 rows × 12 columns</p>\n",
       "</div>"
      ],
      "text/plain": [
       "     show_id     type                  title         director  \\\n",
       "0         s1    Movie   Dick Johnson Is Dead  Kirsten Johnson   \n",
       "1         s2  TV Show          Blood & Water              NaN   \n",
       "2         s3  TV Show              Ganglands  Julien Leclercq   \n",
       "3         s4  TV Show  Jailbirds New Orleans              NaN   \n",
       "4         s5  TV Show           Kota Factory              NaN   \n",
       "...      ...      ...                    ...              ...   \n",
       "8802   s8803    Movie                 Zodiac    David Fincher   \n",
       "8803   s8804  TV Show            Zombie Dumb              NaN   \n",
       "8804   s8805    Movie             Zombieland  Ruben Fleischer   \n",
       "8805   s8806    Movie                   Zoom     Peter Hewitt   \n",
       "8806   s8807    Movie                 Zubaan      Mozez Singh   \n",
       "\n",
       "                                                   cast        country  \\\n",
       "0                                                   NaN  United States   \n",
       "1     Ama Qamata, Khosi Ngema, Gail Mabalane, Thaban...   South Africa   \n",
       "2     Sami Bouajila, Tracy Gotoas, Samuel Jouy, Nabi...            NaN   \n",
       "3                                                   NaN            NaN   \n",
       "4     Mayur More, Jitendra Kumar, Ranjan Raj, Alam K...          India   \n",
       "...                                                 ...            ...   \n",
       "8802  Mark Ruffalo, Jake Gyllenhaal, Robert Downey J...  United States   \n",
       "8803                                                NaN            NaN   \n",
       "8804  Jesse Eisenberg, Woody Harrelson, Emma Stone, ...  United States   \n",
       "8805  Tim Allen, Courteney Cox, Chevy Chase, Kate Ma...  United States   \n",
       "8806  Vicky Kaushal, Sarah-Jane Dias, Raaghav Chanan...          India   \n",
       "\n",
       "              date_added  release_year rating   duration  \\\n",
       "0     September 25, 2021          2020  PG-13     90 min   \n",
       "1     September 24, 2021          2021  TV-MA  2 Seasons   \n",
       "2     September 24, 2021          2021  TV-MA   1 Season   \n",
       "3     September 24, 2021          2021  TV-MA   1 Season   \n",
       "4     September 24, 2021          2021  TV-MA  2 Seasons   \n",
       "...                  ...           ...    ...        ...   \n",
       "8802   November 20, 2019          2007      R    158 min   \n",
       "8803        July 1, 2019          2018  TV-Y7  2 Seasons   \n",
       "8804    November 1, 2019          2009      R     88 min   \n",
       "8805    January 11, 2020          2006     PG     88 min   \n",
       "8806       March 2, 2019          2015  TV-14    111 min   \n",
       "\n",
       "                                              listed_in  \\\n",
       "0                                         Documentaries   \n",
       "1       International TV Shows, TV Dramas, TV Mysteries   \n",
       "2     Crime TV Shows, International TV Shows, TV Act...   \n",
       "3                                Docuseries, Reality TV   \n",
       "4     International TV Shows, Romantic TV Shows, TV ...   \n",
       "...                                                 ...   \n",
       "8802                     Cult Movies, Dramas, Thrillers   \n",
       "8803             Kids' TV, Korean TV Shows, TV Comedies   \n",
       "8804                            Comedies, Horror Movies   \n",
       "8805                 Children & Family Movies, Comedies   \n",
       "8806     Dramas, International Movies, Music & Musicals   \n",
       "\n",
       "                                            description  \n",
       "0     As her father nears the end of his life, filmm...  \n",
       "1     After crossing paths at a party, a Cape Town t...  \n",
       "2     To protect his family from a powerful drug lor...  \n",
       "3     Feuds, flirtations and toilet talk go down amo...  \n",
       "4     In a city of coaching centers known to train I...  \n",
       "...                                                 ...  \n",
       "8802  A political cartoonist, a crime reporter and a...  \n",
       "8803  While living alone in a spooky town, a young g...  \n",
       "8804  Looking to survive in a world taken over by zo...  \n",
       "8805  Dragged from civilian life, a former superhero...  \n",
       "8806  A scrappy but poor boy worms his way into a ty...  \n",
       "\n",
       "[8807 rows x 12 columns]"
      ]
     },
     "execution_count": 3,
     "metadata": {},
     "output_type": "execute_result"
    }
   ],
   "source": [
    "df"
   ]
  },
  {
   "cell_type": "markdown",
   "id": "4b4f2cda-5872-4139-a956-1d9c453c25dc",
   "metadata": {
    "panel-layout": {
     "height": 262.109375,
     "visible": true,
     "width": 100
    }
   },
   "source": [
    "show_id - уникальный ID для каждого фильма/шоу  \n",
    "type - отображает фильм это или шоу  \n",
    "title - название  \n",
    "director - режиссер  \n",
    "cast - актеры, задействованные в фильме/шоу  \n",
    "country - страна производства  \n",
    "date_added - дата добавления на Netflix  \n",
    "release_year - фактический год выпуска показа  \n",
    "rating - телевизионный рейтинг фильма/шоу  \n",
    "duration - продолжительность  \n",
    "listed_in - жанр  \n",
    "description - краткое описание  \n",
    "##### (шоу в данном случае — это широкий термин, который может относиться к любому телевизионному шоу, включая сериалы/телесериалы, а также телепередачи, ток-шоу, реалити-шоу и другие форматы)"
   ]
  },
  {
   "cell_type": "code",
   "execution_count": 4,
   "id": "8069cd12-c2f7-4d3e-976a-65b12f09a4ef",
   "metadata": {
    "panel-layout": {
     "height": 0,
     "visible": true,
     "width": 100
    }
   },
   "outputs": [
    {
     "name": "stdout",
     "output_type": "stream",
     "text": [
      "<class 'pandas.core.frame.DataFrame'>\n",
      "RangeIndex: 8807 entries, 0 to 8806\n",
      "Data columns (total 12 columns):\n",
      " #   Column        Non-Null Count  Dtype \n",
      "---  ------        --------------  ----- \n",
      " 0   show_id       8807 non-null   object\n",
      " 1   type          8807 non-null   object\n",
      " 2   title         8807 non-null   object\n",
      " 3   director      6173 non-null   object\n",
      " 4   cast          7982 non-null   object\n",
      " 5   country       7976 non-null   object\n",
      " 6   date_added    8797 non-null   object\n",
      " 7   release_year  8807 non-null   int64 \n",
      " 8   rating        8803 non-null   object\n",
      " 9   duration      8804 non-null   object\n",
      " 10  listed_in     8807 non-null   object\n",
      " 11  description   8807 non-null   object\n",
      "dtypes: int64(1), object(11)\n",
      "memory usage: 7.8 MB\n"
     ]
    }
   ],
   "source": [
    "df.info(memory_usage='deep')"
   ]
  },
  {
   "cell_type": "markdown",
   "id": "8dc46a24-fe96-4639-a3c9-82acec402986",
   "metadata": {
    "panel-layout": {
     "height": 44.08203125,
     "visible": true,
     "width": 100
    }
   },
   "source": [
    "### Укажем для каждого столбца тип данных так, чтоб сократить объем занимаемой памяти и ускорить выполнение операций. Заодно могут вылезти данные, которые не соответствуют типу столбца."
   ]
  },
  {
   "cell_type": "code",
   "execution_count": 5,
   "id": "c9fa3eae-56c8-4589-9b23-79fbd2b2b383",
   "metadata": {
    "editable": true,
    "slideshow": {
     "slide_type": ""
    },
    "tags": []
   },
   "outputs": [],
   "source": [
    "df['show_id'] = df['show_id'].astype('string')\n",
    "df['type'] = df['type'].astype('category')\n",
    "df['title'] = df['title'].astype('string')\n",
    "df['director'] = df['director'].astype('string')\n",
    "df['cast'] = df['cast'].astype('string')\n",
    "df['country'] = df['country'].astype('string')\n",
    "df['date_added'] = pd.to_datetime(df['date_added'], errors='coerce')\n",
    "df['release_year'] = pd.to_numeric(df['release_year'], errors='coerce')\n",
    "df['rating'] = df['rating'].astype('category')\n",
    "df['duration'] = df['duration'].astype('string')\n",
    "df['listed_in'] = df['listed_in'].astype('string')\n",
    "df['description'] = df['description'].astype('string')"
   ]
  },
  {
   "cell_type": "code",
   "execution_count": 6,
   "id": "9dee91a8-473c-4944-8819-5e52d36e8a3d",
   "metadata": {
    "panel-layout": {
     "height": 0,
     "visible": true,
     "width": 100
    }
   },
   "outputs": [
    {
     "name": "stdout",
     "output_type": "stream",
     "text": [
      "<class 'pandas.core.frame.DataFrame'>\n",
      "RangeIndex: 8807 entries, 0 to 8806\n",
      "Data columns (total 12 columns):\n",
      " #   Column        Non-Null Count  Dtype         \n",
      "---  ------        --------------  -----         \n",
      " 0   show_id       8807 non-null   string        \n",
      " 1   type          8807 non-null   category      \n",
      " 2   title         8807 non-null   string        \n",
      " 3   director      6173 non-null   string        \n",
      " 4   cast          7982 non-null   string        \n",
      " 5   country       7976 non-null   string        \n",
      " 6   date_added    8709 non-null   datetime64[ns]\n",
      " 7   release_year  8807 non-null   int64         \n",
      " 8   rating        8803 non-null   category      \n",
      " 9   duration      8804 non-null   string        \n",
      " 10  listed_in     8807 non-null   string        \n",
      " 11  description   8807 non-null   string        \n",
      "dtypes: category(2), datetime64[ns](1), int64(1), string(8)\n",
      "memory usage: 6.5 MB\n"
     ]
    }
   ],
   "source": [
    "df.info(memory_usage='deep')"
   ]
  },
  {
   "cell_type": "code",
   "execution_count": 7,
   "id": "b6668775-5894-4681-a645-bf90b2693779",
   "metadata": {
    "panel-layout": {
     "height": 242.9296875,
     "visible": true,
     "width": 100
    }
   },
   "outputs": [
    {
     "data": {
      "text/html": [
       "<div>\n",
       "<style scoped>\n",
       "    .dataframe tbody tr th:only-of-type {\n",
       "        vertical-align: middle;\n",
       "    }\n",
       "\n",
       "    .dataframe tbody tr th {\n",
       "        vertical-align: top;\n",
       "    }\n",
       "\n",
       "    .dataframe thead th {\n",
       "        text-align: right;\n",
       "    }\n",
       "</style>\n",
       "<table border=\"1\" class=\"dataframe\">\n",
       "  <thead>\n",
       "    <tr style=\"text-align: right;\">\n",
       "      <th></th>\n",
       "      <th>date_added</th>\n",
       "      <th>release_year</th>\n",
       "    </tr>\n",
       "  </thead>\n",
       "  <tbody>\n",
       "    <tr>\n",
       "      <th>count</th>\n",
       "      <td>8709</td>\n",
       "      <td>8807.000000</td>\n",
       "    </tr>\n",
       "    <tr>\n",
       "      <th>mean</th>\n",
       "      <td>2019-05-23 01:45:29.452290816</td>\n",
       "      <td>2014.180198</td>\n",
       "    </tr>\n",
       "    <tr>\n",
       "      <th>min</th>\n",
       "      <td>2008-01-01 00:00:00</td>\n",
       "      <td>1925.000000</td>\n",
       "    </tr>\n",
       "    <tr>\n",
       "      <th>25%</th>\n",
       "      <td>2018-04-20 00:00:00</td>\n",
       "      <td>2013.000000</td>\n",
       "    </tr>\n",
       "    <tr>\n",
       "      <th>50%</th>\n",
       "      <td>2019-07-12 00:00:00</td>\n",
       "      <td>2017.000000</td>\n",
       "    </tr>\n",
       "    <tr>\n",
       "      <th>75%</th>\n",
       "      <td>2020-08-26 00:00:00</td>\n",
       "      <td>2019.000000</td>\n",
       "    </tr>\n",
       "    <tr>\n",
       "      <th>max</th>\n",
       "      <td>2021-09-25 00:00:00</td>\n",
       "      <td>2021.000000</td>\n",
       "    </tr>\n",
       "    <tr>\n",
       "      <th>std</th>\n",
       "      <td>NaN</td>\n",
       "      <td>8.819312</td>\n",
       "    </tr>\n",
       "  </tbody>\n",
       "</table>\n",
       "</div>"
      ],
      "text/plain": [
       "                          date_added  release_year\n",
       "count                           8709   8807.000000\n",
       "mean   2019-05-23 01:45:29.452290816   2014.180198\n",
       "min              2008-01-01 00:00:00   1925.000000\n",
       "25%              2018-04-20 00:00:00   2013.000000\n",
       "50%              2019-07-12 00:00:00   2017.000000\n",
       "75%              2020-08-26 00:00:00   2019.000000\n",
       "max              2021-09-25 00:00:00   2021.000000\n",
       "std                              NaN      8.819312"
      ]
     },
     "execution_count": 7,
     "metadata": {},
     "output_type": "execute_result"
    }
   ],
   "source": [
    "df.describe()"
   ]
  },
  {
   "cell_type": "markdown",
   "id": "e652e657-9462-4169-a0ba-6eb4fb357c93",
   "metadata": {
    "panel-layout": {
     "height": 43.18359375,
     "visible": true,
     "width": 100
    }
   },
   "source": [
    "#### Количество пропусков по столбцам:"
   ]
  },
  {
   "cell_type": "code",
   "execution_count": 8,
   "id": "3dd91db7-302d-42e7-9ff1-bc5d43ff3754",
   "metadata": {
    "panel-layout": {
     "height": 345.8984375,
     "visible": true,
     "width": 100
    }
   },
   "outputs": [
    {
     "data": {
      "text/plain": [
       "show_id            0\n",
       "type               0\n",
       "title              0\n",
       "director        2634\n",
       "cast             825\n",
       "country          831\n",
       "date_added        98\n",
       "release_year       0\n",
       "rating             4\n",
       "duration           3\n",
       "listed_in          0\n",
       "description        0\n",
       "dtype: int64"
      ]
     },
     "execution_count": 8,
     "metadata": {},
     "output_type": "execute_result"
    }
   ],
   "source": [
    "df.isna().sum()"
   ]
  },
  {
   "cell_type": "markdown",
   "id": "2e47ac27-cf47-4468-81f2-abe64e6ce8e2",
   "metadata": {},
   "source": [
    "#### Проверка на аномальные даты"
   ]
  },
  {
   "cell_type": "code",
   "execution_count": 9,
   "id": "90924e60-07c1-4dbd-97a7-ae7d801b96fb",
   "metadata": {},
   "outputs": [
    {
     "name": "stdout",
     "output_type": "stream",
     "text": [
      "Количество записей с датами в будущем: 0\n",
      "Количество записей с датами до 1950 года: 0\n"
     ]
    }
   ],
   "source": [
    "print(\"Количество записей с датами в будущем:\", len(df[df['date_added'] > pd.to_datetime('today')]))\n",
    "\n",
    "print(\"Количество записей с датами до 1950 года:\", len(df[df['date_added'] < pd.to_datetime('1950-01-01')]))"
   ]
  },
  {
   "cell_type": "markdown",
   "id": "6dc5957b-a5ca-4e2d-867b-3fd5b9e61245",
   "metadata": {
    "panel-layout": {
     "height": 43.18359375,
     "visible": true,
     "width": 100
    }
   },
   "source": [
    "#### Посчитаем медиану, среднее, минимум и максимум длительности фильмов/шоу"
   ]
  },
  {
   "cell_type": "code",
   "execution_count": 10,
   "id": "60e3de8c-72f3-4f1d-a92a-208c63749e51",
   "metadata": {
    "panel-layout": {
     "height": 217.1875,
     "visible": true,
     "width": 100
    }
   },
   "outputs": [
    {
     "data": {
      "text/html": [
       "<div>\n",
       "<style scoped>\n",
       "    .dataframe tbody tr th:only-of-type {\n",
       "        vertical-align: middle;\n",
       "    }\n",
       "\n",
       "    .dataframe tbody tr th {\n",
       "        vertical-align: top;\n",
       "    }\n",
       "\n",
       "    .dataframe thead th {\n",
       "        text-align: right;\n",
       "    }\n",
       "</style>\n",
       "<table border=\"1\" class=\"dataframe\">\n",
       "  <thead>\n",
       "    <tr style=\"text-align: right;\">\n",
       "      <th></th>\n",
       "      <th>type</th>\n",
       "      <th>duration</th>\n",
       "    </tr>\n",
       "  </thead>\n",
       "  <tbody>\n",
       "    <tr>\n",
       "      <th>0</th>\n",
       "      <td>Movie</td>\n",
       "      <td>90 min</td>\n",
       "    </tr>\n",
       "    <tr>\n",
       "      <th>1</th>\n",
       "      <td>TV Show</td>\n",
       "      <td>2 Seasons</td>\n",
       "    </tr>\n",
       "    <tr>\n",
       "      <th>2</th>\n",
       "      <td>TV Show</td>\n",
       "      <td>1 Season</td>\n",
       "    </tr>\n",
       "    <tr>\n",
       "      <th>3</th>\n",
       "      <td>TV Show</td>\n",
       "      <td>1 Season</td>\n",
       "    </tr>\n",
       "    <tr>\n",
       "      <th>4</th>\n",
       "      <td>TV Show</td>\n",
       "      <td>2 Seasons</td>\n",
       "    </tr>\n",
       "    <tr>\n",
       "      <th>5</th>\n",
       "      <td>TV Show</td>\n",
       "      <td>1 Season</td>\n",
       "    </tr>\n",
       "    <tr>\n",
       "      <th>6</th>\n",
       "      <td>Movie</td>\n",
       "      <td>91 min</td>\n",
       "    </tr>\n",
       "  </tbody>\n",
       "</table>\n",
       "</div>"
      ],
      "text/plain": [
       "      type   duration\n",
       "0    Movie     90 min\n",
       "1  TV Show  2 Seasons\n",
       "2  TV Show   1 Season\n",
       "3  TV Show   1 Season\n",
       "4  TV Show  2 Seasons\n",
       "5  TV Show   1 Season\n",
       "6    Movie     91 min"
      ]
     },
     "execution_count": 10,
     "metadata": {},
     "output_type": "execute_result"
    }
   ],
   "source": [
    "df[['type','duration']].head(7)"
   ]
  },
  {
   "cell_type": "markdown",
   "id": "42b1604a-40c6-43c4-9bd8-6d4faecb8a87",
   "metadata": {
    "panel-layout": {
     "height": 68.33984375,
     "visible": true,
     "width": 100
    }
   },
   "source": [
    "#### В столбце с длительностью как видим для фильмов указано количество минут, а для шоу - количество сезонов. Поэтому мы будем подсчитывать статистические показатели для фильмов и шоу по отдельности.\n",
    "\n",
    "#### Но для начала надо отделить числовые и текстовые значения из столбца \"duration\""
   ]
  },
  {
   "cell_type": "code",
   "execution_count": 11,
   "id": "fa6c84b1-0c77-471c-941d-1cb86faf8e59",
   "metadata": {},
   "outputs": [],
   "source": [
    "df[['Количество минут/сезонов','Минуты/Сезоны']]= df.duration.str.extract(r'(\\d+)\\s*(\\w+)')"
   ]
  },
  {
   "cell_type": "code",
   "execution_count": 12,
   "id": "fb737250-5a9b-41ee-903c-8f2f2e0d2cc3",
   "metadata": {
    "panel-layout": {
     "height": 239.7265625,
     "visible": true,
     "width": 100
    }
   },
   "outputs": [
    {
     "data": {
      "text/html": [
       "<div>\n",
       "<style scoped>\n",
       "    .dataframe tbody tr th:only-of-type {\n",
       "        vertical-align: middle;\n",
       "    }\n",
       "\n",
       "    .dataframe tbody tr th {\n",
       "        vertical-align: top;\n",
       "    }\n",
       "\n",
       "    .dataframe thead th {\n",
       "        text-align: right;\n",
       "    }\n",
       "</style>\n",
       "<table border=\"1\" class=\"dataframe\">\n",
       "  <thead>\n",
       "    <tr style=\"text-align: right;\">\n",
       "      <th></th>\n",
       "      <th>show_id</th>\n",
       "      <th>type</th>\n",
       "      <th>title</th>\n",
       "      <th>director</th>\n",
       "      <th>cast</th>\n",
       "      <th>country</th>\n",
       "      <th>date_added</th>\n",
       "      <th>release_year</th>\n",
       "      <th>rating</th>\n",
       "      <th>duration</th>\n",
       "      <th>listed_in</th>\n",
       "      <th>description</th>\n",
       "      <th>Количество минут/сезонов</th>\n",
       "      <th>Минуты/Сезоны</th>\n",
       "    </tr>\n",
       "  </thead>\n",
       "  <tbody>\n",
       "    <tr>\n",
       "      <th>0</th>\n",
       "      <td>s1</td>\n",
       "      <td>Movie</td>\n",
       "      <td>Dick Johnson Is Dead</td>\n",
       "      <td>Kirsten Johnson</td>\n",
       "      <td>&lt;NA&gt;</td>\n",
       "      <td>United States</td>\n",
       "      <td>2021-09-25</td>\n",
       "      <td>2020</td>\n",
       "      <td>PG-13</td>\n",
       "      <td>90 min</td>\n",
       "      <td>Documentaries</td>\n",
       "      <td>As her father nears the end of his life, filmm...</td>\n",
       "      <td>90</td>\n",
       "      <td>min</td>\n",
       "    </tr>\n",
       "    <tr>\n",
       "      <th>1</th>\n",
       "      <td>s2</td>\n",
       "      <td>TV Show</td>\n",
       "      <td>Blood &amp; Water</td>\n",
       "      <td>&lt;NA&gt;</td>\n",
       "      <td>Ama Qamata, Khosi Ngema, Gail Mabalane, Thaban...</td>\n",
       "      <td>South Africa</td>\n",
       "      <td>2021-09-24</td>\n",
       "      <td>2021</td>\n",
       "      <td>TV-MA</td>\n",
       "      <td>2 Seasons</td>\n",
       "      <td>International TV Shows, TV Dramas, TV Mysteries</td>\n",
       "      <td>After crossing paths at a party, a Cape Town t...</td>\n",
       "      <td>2</td>\n",
       "      <td>Seasons</td>\n",
       "    </tr>\n",
       "  </tbody>\n",
       "</table>\n",
       "</div>"
      ],
      "text/plain": [
       "  show_id     type                 title         director  \\\n",
       "0      s1    Movie  Dick Johnson Is Dead  Kirsten Johnson   \n",
       "1      s2  TV Show         Blood & Water             <NA>   \n",
       "\n",
       "                                                cast        country  \\\n",
       "0                                               <NA>  United States   \n",
       "1  Ama Qamata, Khosi Ngema, Gail Mabalane, Thaban...   South Africa   \n",
       "\n",
       "  date_added  release_year rating   duration  \\\n",
       "0 2021-09-25          2020  PG-13     90 min   \n",
       "1 2021-09-24          2021  TV-MA  2 Seasons   \n",
       "\n",
       "                                         listed_in  \\\n",
       "0                                    Documentaries   \n",
       "1  International TV Shows, TV Dramas, TV Mysteries   \n",
       "\n",
       "                                         description Количество минут/сезонов  \\\n",
       "0  As her father nears the end of his life, filmm...                       90   \n",
       "1  After crossing paths at a party, a Cape Town t...                        2   \n",
       "\n",
       "  Минуты/Сезоны  \n",
       "0           min  \n",
       "1       Seasons  "
      ]
     },
     "execution_count": 12,
     "metadata": {},
     "output_type": "execute_result"
    }
   ],
   "source": [
    "df.head(2)"
   ]
  },
  {
   "cell_type": "markdown",
   "id": "21bca044-b57c-4d3a-a58f-d0987e118b8b",
   "metadata": {
    "panel-layout": {
     "height": 43.18359375,
     "visible": true,
     "width": 100
    }
   },
   "source": [
    "#### Теперь посмотрим верно ли мы сделали разделение. В таком случае в столбце с количеством должны быть только числовые значения, а в столбце \"Минуты/Сезоны\" - только текстовые"
   ]
  },
  {
   "cell_type": "code",
   "execution_count": 13,
   "id": "a8b7cdb3-0085-42fb-b6f4-b16523903e33",
   "metadata": {},
   "outputs": [],
   "source": [
    "df['Количество минут/сезонов'] = pd.to_numeric(df['Количество минут/сезонов'], errors='coerce')\n",
    "df['Минуты/Сезоны'] = df['Минуты/Сезоны'].astype('string')"
   ]
  },
  {
   "cell_type": "code",
   "execution_count": 14,
   "id": "6745508c-df0b-4d44-b65f-5c25de97f171",
   "metadata": {
    "panel-layout": {
     "height": 0,
     "visible": true,
     "width": 100
    }
   },
   "outputs": [
    {
     "name": "stdout",
     "output_type": "stream",
     "text": [
      "[90, 2, 1, 91, 125, 9, 104, 127, 4, 67, 94, 5, 161, 61, 166, 147, 103, 97, 106, 111, 3, 110, 105, 96, 124, 116, 98, 23, 115, 122, 99, 88, 100, 6, 102, 93, 95, 85, 83, 113, 13, 182, 48, 145, 87, 92, 80, 117, 128, 119, 143, 114, 118, 108, 63, 121, 142, 154, 120, 82, 109, 101, 86, 229, 76, 89, 156, 112, 107, 129, 135, 136, 165, 150, 133, 70, 84, 140, 78, 7, 64, 59, 139, 69, 148, 189, 141, 130, 138, 81, 132, 10, 123, 65, 68, 66, 62, 74, 131, 39, 46, 38, 8, 17, 126, 155, 159, 137, 12, 273, 36, 34, 77, 60, 49, 58, 72, 204, 212, 25, 73, 29, 47, 32, 35, 71, 149, 33, 15, 54, 224, 162, 37, 75, 79, 55, 158, 164, 173, 181, 185, 21, 24, 51, 151, 42, 22, 134, 177, 52, 14, 53, 57, 28, 50, 26, 45, 171, 27, 44, 146, 20, 157, 203, 41, 30, 194, 233, 237, 230, 195, 253, 152, 190, 160, 208, 180, 144, 174, 170, 192, 209, 187, 172, 16, 186, 11, 193, 176, 56, 169, 40, 168, 312, 153, 214, 31, 163, 19, <NA>, 179, 43, 200, 196, 167, 178, 228, 18, 205, 201, 191]\n"
     ]
    }
   ],
   "source": [
    "print(list(df['Количество минут/сезонов'].unique()))"
   ]
  },
  {
   "cell_type": "code",
   "execution_count": 15,
   "id": "e75da588-8c3f-423e-a98e-41cc900bd8b6",
   "metadata": {
    "panel-layout": {
     "height": 61.38671875,
     "visible": true,
     "width": 100
    }
   },
   "outputs": [
    {
     "data": {
      "text/plain": [
       "<StringArray>\n",
       "['min', 'Seasons', 'Season', <NA>]\n",
       "Length: 4, dtype: string"
      ]
     },
     "execution_count": 15,
     "metadata": {},
     "output_type": "execute_result"
    }
   ],
   "source": [
    "df['Минуты/Сезоны'].unique()"
   ]
  },
  {
   "cell_type": "markdown",
   "id": "48272798-bad6-4a78-9edf-f1cf90fe43b6",
   "metadata": {
    "panel-layout": {
     "height": 43.18359375,
     "visible": true,
     "width": 100
    }
   },
   "source": [
    "#### Я изучил данные, и понял, что значение \"seasons\" ставится для нескольких сезонов, а значение \"season\" для шоу, имеющих только 1 сезон"
   ]
  },
  {
   "cell_type": "markdown",
   "id": "428f396d-9918-4514-8a3b-2e6f7f44fc4c",
   "metadata": {
    "panel-layout": {
     "height": 43.18359375,
     "visible": true,
     "width": 100
    }
   },
   "source": [
    "#### В обоих столбцах присутствуют значения Na, проверим совпадают ли они"
   ]
  },
  {
   "cell_type": "code",
   "execution_count": 16,
   "id": "a3c2f2bc-2b8b-4946-bec6-cf3f105cde1a",
   "metadata": {
    "panel-layout": {
     "height": 182.96875,
     "visible": true,
     "width": 100
    }
   },
   "outputs": [
    {
     "data": {
      "text/html": [
       "<div>\n",
       "<style scoped>\n",
       "    .dataframe tbody tr th:only-of-type {\n",
       "        vertical-align: middle;\n",
       "    }\n",
       "\n",
       "    .dataframe tbody tr th {\n",
       "        vertical-align: top;\n",
       "    }\n",
       "\n",
       "    .dataframe thead th {\n",
       "        text-align: right;\n",
       "    }\n",
       "</style>\n",
       "<table border=\"1\" class=\"dataframe\">\n",
       "  <thead>\n",
       "    <tr style=\"text-align: right;\">\n",
       "      <th></th>\n",
       "      <th>show_id</th>\n",
       "      <th>type</th>\n",
       "      <th>title</th>\n",
       "      <th>director</th>\n",
       "      <th>cast</th>\n",
       "      <th>country</th>\n",
       "      <th>date_added</th>\n",
       "      <th>release_year</th>\n",
       "      <th>rating</th>\n",
       "      <th>duration</th>\n",
       "      <th>listed_in</th>\n",
       "      <th>description</th>\n",
       "      <th>Количество минут/сезонов</th>\n",
       "      <th>Минуты/Сезоны</th>\n",
       "    </tr>\n",
       "  </thead>\n",
       "  <tbody>\n",
       "    <tr>\n",
       "      <th>5541</th>\n",
       "      <td>s5542</td>\n",
       "      <td>Movie</td>\n",
       "      <td>Louis C.K. 2017</td>\n",
       "      <td>Louis C.K.</td>\n",
       "      <td>Louis C.K.</td>\n",
       "      <td>United States</td>\n",
       "      <td>2017-04-04</td>\n",
       "      <td>2017</td>\n",
       "      <td>74 min</td>\n",
       "      <td>&lt;NA&gt;</td>\n",
       "      <td>Movies</td>\n",
       "      <td>Louis C.K. muses on religion, eternal love, gi...</td>\n",
       "      <td>&lt;NA&gt;</td>\n",
       "      <td>&lt;NA&gt;</td>\n",
       "    </tr>\n",
       "    <tr>\n",
       "      <th>5794</th>\n",
       "      <td>s5795</td>\n",
       "      <td>Movie</td>\n",
       "      <td>Louis C.K.: Hilarious</td>\n",
       "      <td>Louis C.K.</td>\n",
       "      <td>Louis C.K.</td>\n",
       "      <td>United States</td>\n",
       "      <td>2016-09-16</td>\n",
       "      <td>2010</td>\n",
       "      <td>84 min</td>\n",
       "      <td>&lt;NA&gt;</td>\n",
       "      <td>Movies</td>\n",
       "      <td>Emmy-winning comedy writer Louis C.K. brings h...</td>\n",
       "      <td>&lt;NA&gt;</td>\n",
       "      <td>&lt;NA&gt;</td>\n",
       "    </tr>\n",
       "    <tr>\n",
       "      <th>5813</th>\n",
       "      <td>s5814</td>\n",
       "      <td>Movie</td>\n",
       "      <td>Louis C.K.: Live at the Comedy Store</td>\n",
       "      <td>Louis C.K.</td>\n",
       "      <td>Louis C.K.</td>\n",
       "      <td>United States</td>\n",
       "      <td>2016-08-15</td>\n",
       "      <td>2015</td>\n",
       "      <td>66 min</td>\n",
       "      <td>&lt;NA&gt;</td>\n",
       "      <td>Movies</td>\n",
       "      <td>The comic puts his trademark hilarious/thought...</td>\n",
       "      <td>&lt;NA&gt;</td>\n",
       "      <td>&lt;NA&gt;</td>\n",
       "    </tr>\n",
       "  </tbody>\n",
       "</table>\n",
       "</div>"
      ],
      "text/plain": [
       "     show_id   type                                 title    director  \\\n",
       "5541   s5542  Movie                       Louis C.K. 2017  Louis C.K.   \n",
       "5794   s5795  Movie                 Louis C.K.: Hilarious  Louis C.K.   \n",
       "5813   s5814  Movie  Louis C.K.: Live at the Comedy Store  Louis C.K.   \n",
       "\n",
       "            cast        country date_added  release_year  rating duration  \\\n",
       "5541  Louis C.K.  United States 2017-04-04          2017  74 min     <NA>   \n",
       "5794  Louis C.K.  United States 2016-09-16          2010  84 min     <NA>   \n",
       "5813  Louis C.K.  United States 2016-08-15          2015  66 min     <NA>   \n",
       "\n",
       "     listed_in                                        description  \\\n",
       "5541    Movies  Louis C.K. muses on religion, eternal love, gi...   \n",
       "5794    Movies  Emmy-winning comedy writer Louis C.K. brings h...   \n",
       "5813    Movies  The comic puts his trademark hilarious/thought...   \n",
       "\n",
       "      Количество минут/сезонов Минуты/Сезоны  \n",
       "5541                      <NA>          <NA>  \n",
       "5794                      <NA>          <NA>  \n",
       "5813                      <NA>          <NA>  "
      ]
     },
     "execution_count": 16,
     "metadata": {},
     "output_type": "execute_result"
    }
   ],
   "source": [
    "df[(df['Минуты/Сезоны'].isna())|(df['Количество минут/сезонов'].isna())]"
   ]
  },
  {
   "cell_type": "markdown",
   "id": "ebedcb3c-7065-4bf4-920a-64aa5eeefff0",
   "metadata": {
    "panel-layout": {
     "height": 43.18359375,
     "visible": true,
     "width": 100
    }
   },
   "source": [
    "#### Значения NaN присутствуют в обоих экстрагированных столбцах, и они соответствуют столбцу \"duration\", в котором в таких случаях тоже стоит значение NaN"
   ]
  },
  {
   "cell_type": "markdown",
   "id": "33bb3423-209a-4dad-bf8a-2b9f8dc5f923",
   "metadata": {
    "panel-layout": {
     "height": 43.18359375,
     "visible": true,
     "width": 100
    }
   },
   "source": [
    "#### Но как можно заметить, столбец rating содержит данные о минутах, а значит нам нужно его перенести в duration и выполнить последующие операции экстрагирования"
   ]
  },
  {
   "cell_type": "code",
   "execution_count": 17,
   "id": "589c3aa3-10d3-4aab-a77a-e7f5c9902855",
   "metadata": {
    "panel-layout": {
     "height": 182.96875,
     "visible": true,
     "width": 100
    }
   },
   "outputs": [
    {
     "data": {
      "text/html": [
       "<div>\n",
       "<style scoped>\n",
       "    .dataframe tbody tr th:only-of-type {\n",
       "        vertical-align: middle;\n",
       "    }\n",
       "\n",
       "    .dataframe tbody tr th {\n",
       "        vertical-align: top;\n",
       "    }\n",
       "\n",
       "    .dataframe thead th {\n",
       "        text-align: right;\n",
       "    }\n",
       "</style>\n",
       "<table border=\"1\" class=\"dataframe\">\n",
       "  <thead>\n",
       "    <tr style=\"text-align: right;\">\n",
       "      <th></th>\n",
       "      <th>show_id</th>\n",
       "      <th>type</th>\n",
       "      <th>title</th>\n",
       "      <th>director</th>\n",
       "      <th>cast</th>\n",
       "      <th>country</th>\n",
       "      <th>date_added</th>\n",
       "      <th>release_year</th>\n",
       "      <th>rating</th>\n",
       "      <th>duration</th>\n",
       "      <th>listed_in</th>\n",
       "      <th>description</th>\n",
       "      <th>Количество минут/сезонов</th>\n",
       "      <th>Минуты/Сезоны</th>\n",
       "    </tr>\n",
       "  </thead>\n",
       "  <tbody>\n",
       "    <tr>\n",
       "      <th>5541</th>\n",
       "      <td>s5542</td>\n",
       "      <td>Movie</td>\n",
       "      <td>Louis C.K. 2017</td>\n",
       "      <td>Louis C.K.</td>\n",
       "      <td>Louis C.K.</td>\n",
       "      <td>United States</td>\n",
       "      <td>2017-04-04</td>\n",
       "      <td>2017</td>\n",
       "      <td>74 min</td>\n",
       "      <td>&lt;NA&gt;</td>\n",
       "      <td>Movies</td>\n",
       "      <td>Louis C.K. muses on religion, eternal love, gi...</td>\n",
       "      <td>&lt;NA&gt;</td>\n",
       "      <td>&lt;NA&gt;</td>\n",
       "    </tr>\n",
       "    <tr>\n",
       "      <th>5794</th>\n",
       "      <td>s5795</td>\n",
       "      <td>Movie</td>\n",
       "      <td>Louis C.K.: Hilarious</td>\n",
       "      <td>Louis C.K.</td>\n",
       "      <td>Louis C.K.</td>\n",
       "      <td>United States</td>\n",
       "      <td>2016-09-16</td>\n",
       "      <td>2010</td>\n",
       "      <td>84 min</td>\n",
       "      <td>&lt;NA&gt;</td>\n",
       "      <td>Movies</td>\n",
       "      <td>Emmy-winning comedy writer Louis C.K. brings h...</td>\n",
       "      <td>&lt;NA&gt;</td>\n",
       "      <td>&lt;NA&gt;</td>\n",
       "    </tr>\n",
       "    <tr>\n",
       "      <th>5813</th>\n",
       "      <td>s5814</td>\n",
       "      <td>Movie</td>\n",
       "      <td>Louis C.K.: Live at the Comedy Store</td>\n",
       "      <td>Louis C.K.</td>\n",
       "      <td>Louis C.K.</td>\n",
       "      <td>United States</td>\n",
       "      <td>2016-08-15</td>\n",
       "      <td>2015</td>\n",
       "      <td>66 min</td>\n",
       "      <td>&lt;NA&gt;</td>\n",
       "      <td>Movies</td>\n",
       "      <td>The comic puts his trademark hilarious/thought...</td>\n",
       "      <td>&lt;NA&gt;</td>\n",
       "      <td>&lt;NA&gt;</td>\n",
       "    </tr>\n",
       "  </tbody>\n",
       "</table>\n",
       "</div>"
      ],
      "text/plain": [
       "     show_id   type                                 title    director  \\\n",
       "5541   s5542  Movie                       Louis C.K. 2017  Louis C.K.   \n",
       "5794   s5795  Movie                 Louis C.K.: Hilarious  Louis C.K.   \n",
       "5813   s5814  Movie  Louis C.K.: Live at the Comedy Store  Louis C.K.   \n",
       "\n",
       "            cast        country date_added  release_year  rating duration  \\\n",
       "5541  Louis C.K.  United States 2017-04-04          2017  74 min     <NA>   \n",
       "5794  Louis C.K.  United States 2016-09-16          2010  84 min     <NA>   \n",
       "5813  Louis C.K.  United States 2016-08-15          2015  66 min     <NA>   \n",
       "\n",
       "     listed_in                                        description  \\\n",
       "5541    Movies  Louis C.K. muses on religion, eternal love, gi...   \n",
       "5794    Movies  Emmy-winning comedy writer Louis C.K. brings h...   \n",
       "5813    Movies  The comic puts his trademark hilarious/thought...   \n",
       "\n",
       "      Количество минут/сезонов Минуты/Сезоны  \n",
       "5541                      <NA>          <NA>  \n",
       "5794                      <NA>          <NA>  \n",
       "5813                      <NA>          <NA>  "
      ]
     },
     "execution_count": 17,
     "metadata": {},
     "output_type": "execute_result"
    }
   ],
   "source": [
    "df[df.rating.str.contains('min|Season', na=False)]"
   ]
  },
  {
   "cell_type": "markdown",
   "id": "5590e9a9-73dc-40eb-a64f-323f74e2ded8",
   "metadata": {
    "panel-layout": {
     "height": 43.18359375,
     "visible": true,
     "width": 100
    }
   },
   "source": [
    "#### Как видим, количество значений с вхожднием 'min' или 'Season' в строку, совпадает с количеством отсутствующих значений в столбце duration"
   ]
  },
  {
   "cell_type": "code",
   "execution_count": 18,
   "id": "3c0de3d3-9380-4fa3-a7df-3c4a6b0c22d4",
   "metadata": {},
   "outputs": [],
   "source": [
    "df.loc[df.duration.isna(),'duration'] = df.loc[df.duration.isna(),'rating'].astype('string')"
   ]
  },
  {
   "cell_type": "code",
   "execution_count": 19,
   "id": "cab44ab0-7d9d-4fd3-9196-e949d2a3f4b1",
   "metadata": {},
   "outputs": [],
   "source": [
    "extracted = df.loc[df.rating.str.contains('min', na=False), 'duration'].str.extract(r'(\\d+)\\s*(\\w+)')"
   ]
  },
  {
   "cell_type": "code",
   "execution_count": 20,
   "id": "c7152e2d-2b21-4421-a216-3ae59fbb2fa7",
   "metadata": {},
   "outputs": [],
   "source": [
    "df.loc[df.rating.str.contains('min', na=False), 'Количество минут/сезонов'] = pd.to_numeric(extracted[0], errors='coerce')\n",
    "df.loc[df.rating.str.contains('min', na=False), 'Минуты/Сезоны'] = extracted[1]\n",
    "df.loc[df.rating.astype('string').str.contains('min', na=False),'rating'] = pd.NA"
   ]
  },
  {
   "cell_type": "code",
   "execution_count": 21,
   "id": "351e0657-485c-4173-a4e8-a0abb6205f21",
   "metadata": {
    "panel-layout": {
     "height": 657.1875,
     "visible": true,
     "width": 100
    }
   },
   "outputs": [
    {
     "data": {
      "text/html": [
       "<div>\n",
       "<style scoped>\n",
       "    .dataframe tbody tr th:only-of-type {\n",
       "        vertical-align: middle;\n",
       "    }\n",
       "\n",
       "    .dataframe tbody tr th {\n",
       "        vertical-align: top;\n",
       "    }\n",
       "\n",
       "    .dataframe thead th {\n",
       "        text-align: right;\n",
       "    }\n",
       "</style>\n",
       "<table border=\"1\" class=\"dataframe\">\n",
       "  <thead>\n",
       "    <tr style=\"text-align: right;\">\n",
       "      <th></th>\n",
       "      <th>show_id</th>\n",
       "      <th>type</th>\n",
       "      <th>title</th>\n",
       "      <th>director</th>\n",
       "      <th>cast</th>\n",
       "      <th>country</th>\n",
       "      <th>date_added</th>\n",
       "      <th>release_year</th>\n",
       "      <th>rating</th>\n",
       "      <th>duration</th>\n",
       "      <th>listed_in</th>\n",
       "      <th>description</th>\n",
       "      <th>Количество минут/сезонов</th>\n",
       "      <th>Минуты/Сезоны</th>\n",
       "    </tr>\n",
       "  </thead>\n",
       "  <tbody>\n",
       "    <tr>\n",
       "      <th>5541</th>\n",
       "      <td>s5542</td>\n",
       "      <td>Movie</td>\n",
       "      <td>Louis C.K. 2017</td>\n",
       "      <td>Louis C.K.</td>\n",
       "      <td>Louis C.K.</td>\n",
       "      <td>United States</td>\n",
       "      <td>2017-04-04</td>\n",
       "      <td>2017</td>\n",
       "      <td>NaN</td>\n",
       "      <td>74 min</td>\n",
       "      <td>Movies</td>\n",
       "      <td>Louis C.K. muses on religion, eternal love, gi...</td>\n",
       "      <td>74</td>\n",
       "      <td>min</td>\n",
       "    </tr>\n",
       "    <tr>\n",
       "      <th>5794</th>\n",
       "      <td>s5795</td>\n",
       "      <td>Movie</td>\n",
       "      <td>Louis C.K.: Hilarious</td>\n",
       "      <td>Louis C.K.</td>\n",
       "      <td>Louis C.K.</td>\n",
       "      <td>United States</td>\n",
       "      <td>2016-09-16</td>\n",
       "      <td>2010</td>\n",
       "      <td>NaN</td>\n",
       "      <td>84 min</td>\n",
       "      <td>Movies</td>\n",
       "      <td>Emmy-winning comedy writer Louis C.K. brings h...</td>\n",
       "      <td>84</td>\n",
       "      <td>min</td>\n",
       "    </tr>\n",
       "    <tr>\n",
       "      <th>5813</th>\n",
       "      <td>s5814</td>\n",
       "      <td>Movie</td>\n",
       "      <td>Louis C.K.: Live at the Comedy Store</td>\n",
       "      <td>Louis C.K.</td>\n",
       "      <td>Louis C.K.</td>\n",
       "      <td>United States</td>\n",
       "      <td>2016-08-15</td>\n",
       "      <td>2015</td>\n",
       "      <td>NaN</td>\n",
       "      <td>66 min</td>\n",
       "      <td>Movies</td>\n",
       "      <td>The comic puts his trademark hilarious/thought...</td>\n",
       "      <td>66</td>\n",
       "      <td>min</td>\n",
       "    </tr>\n",
       "    <tr>\n",
       "      <th>5989</th>\n",
       "      <td>s5990</td>\n",
       "      <td>Movie</td>\n",
       "      <td>13TH: A Conversation with Oprah Winfrey &amp; Ava ...</td>\n",
       "      <td>&lt;NA&gt;</td>\n",
       "      <td>Oprah Winfrey, Ava DuVernay</td>\n",
       "      <td>&lt;NA&gt;</td>\n",
       "      <td>2017-01-26</td>\n",
       "      <td>2017</td>\n",
       "      <td>NaN</td>\n",
       "      <td>37 min</td>\n",
       "      <td>Movies</td>\n",
       "      <td>Oprah Winfrey sits down with director Ava DuVe...</td>\n",
       "      <td>37</td>\n",
       "      <td>min</td>\n",
       "    </tr>\n",
       "    <tr>\n",
       "      <th>6827</th>\n",
       "      <td>s6828</td>\n",
       "      <td>TV Show</td>\n",
       "      <td>Gargantia on the Verdurous Planet</td>\n",
       "      <td>&lt;NA&gt;</td>\n",
       "      <td>Kaito Ishikawa, Hisako Kanemoto, Ai Kayano, Ka...</td>\n",
       "      <td>Japan</td>\n",
       "      <td>2016-12-01</td>\n",
       "      <td>2013</td>\n",
       "      <td>NaN</td>\n",
       "      <td>1 Season</td>\n",
       "      <td>Anime Series, International TV Shows</td>\n",
       "      <td>After falling through a wormhole, a space-dwel...</td>\n",
       "      <td>1</td>\n",
       "      <td>Season</td>\n",
       "    </tr>\n",
       "    <tr>\n",
       "      <th>7312</th>\n",
       "      <td>s7313</td>\n",
       "      <td>TV Show</td>\n",
       "      <td>Little Lunch</td>\n",
       "      <td>&lt;NA&gt;</td>\n",
       "      <td>Flynn Curry, Olivia Deeble, Madison Lu, Oisín ...</td>\n",
       "      <td>Australia</td>\n",
       "      <td>2018-02-01</td>\n",
       "      <td>2015</td>\n",
       "      <td>NaN</td>\n",
       "      <td>1 Season</td>\n",
       "      <td>Kids' TV, TV Comedies</td>\n",
       "      <td>Adopting a child's perspective, this show take...</td>\n",
       "      <td>1</td>\n",
       "      <td>Season</td>\n",
       "    </tr>\n",
       "    <tr>\n",
       "      <th>7537</th>\n",
       "      <td>s7538</td>\n",
       "      <td>Movie</td>\n",
       "      <td>My Honor Was Loyalty</td>\n",
       "      <td>Alessandro Pepe</td>\n",
       "      <td>Leone Frisa, Paolo Vaccarino, Francesco Miglio...</td>\n",
       "      <td>Italy</td>\n",
       "      <td>2017-03-01</td>\n",
       "      <td>2015</td>\n",
       "      <td>NaN</td>\n",
       "      <td>115 min</td>\n",
       "      <td>Dramas</td>\n",
       "      <td>Amid the chaos and horror of World War II, a c...</td>\n",
       "      <td>115</td>\n",
       "      <td>min</td>\n",
       "    </tr>\n",
       "  </tbody>\n",
       "</table>\n",
       "</div>"
      ],
      "text/plain": [
       "     show_id     type                                              title  \\\n",
       "5541   s5542    Movie                                    Louis C.K. 2017   \n",
       "5794   s5795    Movie                              Louis C.K.: Hilarious   \n",
       "5813   s5814    Movie               Louis C.K.: Live at the Comedy Store   \n",
       "5989   s5990    Movie  13TH: A Conversation with Oprah Winfrey & Ava ...   \n",
       "6827   s6828  TV Show                  Gargantia on the Verdurous Planet   \n",
       "7312   s7313  TV Show                                       Little Lunch   \n",
       "7537   s7538    Movie                               My Honor Was Loyalty   \n",
       "\n",
       "             director                                               cast  \\\n",
       "5541       Louis C.K.                                         Louis C.K.   \n",
       "5794       Louis C.K.                                         Louis C.K.   \n",
       "5813       Louis C.K.                                         Louis C.K.   \n",
       "5989             <NA>                        Oprah Winfrey, Ava DuVernay   \n",
       "6827             <NA>  Kaito Ishikawa, Hisako Kanemoto, Ai Kayano, Ka...   \n",
       "7312             <NA>  Flynn Curry, Olivia Deeble, Madison Lu, Oisín ...   \n",
       "7537  Alessandro Pepe  Leone Frisa, Paolo Vaccarino, Francesco Miglio...   \n",
       "\n",
       "            country date_added  release_year rating  duration  \\\n",
       "5541  United States 2017-04-04          2017    NaN    74 min   \n",
       "5794  United States 2016-09-16          2010    NaN    84 min   \n",
       "5813  United States 2016-08-15          2015    NaN    66 min   \n",
       "5989           <NA> 2017-01-26          2017    NaN    37 min   \n",
       "6827          Japan 2016-12-01          2013    NaN  1 Season   \n",
       "7312      Australia 2018-02-01          2015    NaN  1 Season   \n",
       "7537          Italy 2017-03-01          2015    NaN   115 min   \n",
       "\n",
       "                                 listed_in  \\\n",
       "5541                                Movies   \n",
       "5794                                Movies   \n",
       "5813                                Movies   \n",
       "5989                                Movies   \n",
       "6827  Anime Series, International TV Shows   \n",
       "7312                 Kids' TV, TV Comedies   \n",
       "7537                                Dramas   \n",
       "\n",
       "                                            description  \\\n",
       "5541  Louis C.K. muses on religion, eternal love, gi...   \n",
       "5794  Emmy-winning comedy writer Louis C.K. brings h...   \n",
       "5813  The comic puts his trademark hilarious/thought...   \n",
       "5989  Oprah Winfrey sits down with director Ava DuVe...   \n",
       "6827  After falling through a wormhole, a space-dwel...   \n",
       "7312  Adopting a child's perspective, this show take...   \n",
       "7537  Amid the chaos and horror of World War II, a c...   \n",
       "\n",
       "      Количество минут/сезонов Минуты/Сезоны  \n",
       "5541                        74           min  \n",
       "5794                        84           min  \n",
       "5813                        66           min  \n",
       "5989                        37           min  \n",
       "6827                         1        Season  \n",
       "7312                         1        Season  \n",
       "7537                       115           min  "
      ]
     },
     "execution_count": 21,
     "metadata": {},
     "output_type": "execute_result"
    }
   ],
   "source": [
    "df.loc[df.rating.isna(),:]"
   ]
  },
  {
   "cell_type": "markdown",
   "id": "71830ac5-5563-4d06-8d86-0aac4d14ce0e",
   "metadata": {
    "panel-layout": {
     "height": 43.18359375,
     "visible": true,
     "width": 100
    }
   },
   "source": [
    "#### Теперь начнем вычислять статистики для фильмов и шоу по отдельности"
   ]
  },
  {
   "cell_type": "code",
   "execution_count": 22,
   "id": "cbf43ecf-a51b-4be3-b60b-7c742f276f90",
   "metadata": {},
   "outputs": [],
   "source": [
    "df_movie = df[df['type']=='Movie']\n",
    "df_show = df[df['type']=='TV Show']"
   ]
  },
  {
   "cell_type": "code",
   "execution_count": 23,
   "id": "75626dc8-23e5-4ad7-bba6-b69b27d0d46b",
   "metadata": {
    "panel-layout": {
     "height": 0,
     "visible": true,
     "width": 100
    }
   },
   "outputs": [
    {
     "name": "stdout",
     "output_type": "stream",
     "text": [
      "Медиана количества минут в фильмах 98\n",
      "Медиана количества сезонов шоу 1\n",
      "\n",
      "Среднее значение количества минут в фильмах 99.56\n",
      "Среднее значение количества сезонов шоу 1.76\n",
      "\n",
      "Минимальное количество минут в фильмах 3\n",
      "Минимальное количество сезонов шоу 1\n",
      "\n",
      "Максимальное количество минут в фильмах 312\n",
      "Максимальное количество сезонов шоу 17\n"
     ]
    }
   ],
   "source": [
    "print(\"Медиана количества минут в фильмах\",round(df_movie['Количество минут/сезонов'].median()))\n",
    "print(\"Медиана количества сезонов шоу\",round(df_show['Количество минут/сезонов'].median()))\n",
    "print()\n",
    "print(\"Среднее значение количества минут в фильмах\",round(df_movie['Количество минут/сезонов'].mean(),2))\n",
    "print(\"Среднее значение количества сезонов шоу\",round(df_show['Количество минут/сезонов'].mean(),2))\n",
    "print()\n",
    "print(\"Минимальное количество минут в фильмах\",df_movie['Количество минут/сезонов'].min())\n",
    "print(\"Минимальное количество сезонов шоу\",df_show['Количество минут/сезонов'].min())\n",
    "print()\n",
    "print(\"Максимальное количество минут в фильмах\",df_movie['Количество минут/сезонов'].max())\n",
    "print(\"Максимальное количество сезонов шоу\",df_show['Количество минут/сезонов'].max())"
   ]
  },
  {
   "cell_type": "markdown",
   "id": "7f33b56a-59d2-444f-83a8-b35dde8581b8",
   "metadata": {
    "panel-layout": {
     "height": 43.18359375,
     "visible": true,
     "width": 100
    }
   },
   "source": [
    "#### Теперь визуализируем распределение длительности"
   ]
  },
  {
   "cell_type": "code",
   "execution_count": 24,
   "id": "6c30fc78-5b91-4088-83f0-614851ef0370",
   "metadata": {
    "panel-layout": {
     "height": 700.99609375,
     "visible": true,
     "width": 100
    }
   },
   "outputs": [
    {
     "data": {
      "image/png": "[encoded data removed]",
      "text/plain": [
       "<Figure size 640x480 with 1 Axes>"
      ]
     },
     "metadata": {},
     "output_type": "display_data"
    }
   ],
   "source": [
    "sns.histplot(x='Количество минут/сезонов',data=df_movie)\n",
    "plt.title('Распределение длительности фильмов')\n",
    "plt.xlabel('Количество минут')\n",
    "plt.ylabel('Количество фильмов')\n",
    "\n",
    "plt.show()"
   ]
  },
  {
   "cell_type": "markdown",
   "id": "b61e10ce-e290-4735-a7f6-4a422325dbef",
   "metadata": {
    "panel-layout": {
     "height": 68.33984375,
     "visible": true,
     "width": 100
    }
   },
   "source": [
    "#### Как видно из гистограммы, основная масса фильмов сосредоточена в диапазоне от 50 до 150 минут. Присутствует небольшой хвост слева и большой хвост справа.\n",
    "#### Проверим на корректность фильмы с количеством минут менее 10"
   ]
  },
  {
   "cell_type": "code",
   "execution_count": 25,
   "id": "7a0a83b9-1465-486d-9fe8-750aa1cacdba",
   "metadata": {
    "panel-layout": {
     "height": 964.70703125,
     "visible": true,
     "width": 100
    }
   },
   "outputs": [
    {
     "data": {
      "text/html": [
       "<div>\n",
       "<style scoped>\n",
       "    .dataframe tbody tr th:only-of-type {\n",
       "        vertical-align: middle;\n",
       "    }\n",
       "\n",
       "    .dataframe tbody tr th {\n",
       "        vertical-align: top;\n",
       "    }\n",
       "\n",
       "    .dataframe thead th {\n",
       "        text-align: right;\n",
       "    }\n",
       "</style>\n",
       "<table border=\"1\" class=\"dataframe\">\n",
       "  <thead>\n",
       "    <tr style=\"text-align: right;\">\n",
       "      <th></th>\n",
       "      <th>show_id</th>\n",
       "      <th>type</th>\n",
       "      <th>title</th>\n",
       "      <th>director</th>\n",
       "      <th>cast</th>\n",
       "      <th>country</th>\n",
       "      <th>date_added</th>\n",
       "      <th>release_year</th>\n",
       "      <th>rating</th>\n",
       "      <th>duration</th>\n",
       "      <th>listed_in</th>\n",
       "      <th>description</th>\n",
       "      <th>Количество минут/сезонов</th>\n",
       "      <th>Минуты/Сезоны</th>\n",
       "    </tr>\n",
       "  </thead>\n",
       "  <tbody>\n",
       "    <tr>\n",
       "      <th>1484</th>\n",
       "      <td>s1485</td>\n",
       "      <td>Movie</td>\n",
       "      <td>Cops and Robbers</td>\n",
       "      <td>Arnon Manor, Timothy Ware-Hill</td>\n",
       "      <td>Timothy Ware-Hill</td>\n",
       "      <td>United States</td>\n",
       "      <td>2020-12-28</td>\n",
       "      <td>2020</td>\n",
       "      <td>PG-13</td>\n",
       "      <td>8 min</td>\n",
       "      <td>Dramas</td>\n",
       "      <td>Animation and activism unite in this multimedi...</td>\n",
       "      <td>8</td>\n",
       "      <td>min</td>\n",
       "    </tr>\n",
       "    <tr>\n",
       "      <th>1557</th>\n",
       "      <td>s1558</td>\n",
       "      <td>Movie</td>\n",
       "      <td>Canvas</td>\n",
       "      <td>Frank E. Abney III</td>\n",
       "      <td>&lt;NA&gt;</td>\n",
       "      <td>United States</td>\n",
       "      <td>2020-12-11</td>\n",
       "      <td>2020</td>\n",
       "      <td>G</td>\n",
       "      <td>9 min</td>\n",
       "      <td>Children &amp; Family Movies, Dramas</td>\n",
       "      <td>After a heartbreaking loss, a grandfather stru...</td>\n",
       "      <td>9</td>\n",
       "      <td>min</td>\n",
       "    </tr>\n",
       "    <tr>\n",
       "      <th>2713</th>\n",
       "      <td>s2714</td>\n",
       "      <td>Movie</td>\n",
       "      <td>Sol Levante</td>\n",
       "      <td>Akira Saitoh</td>\n",
       "      <td>&lt;NA&gt;</td>\n",
       "      <td>Japan</td>\n",
       "      <td>2020-04-02</td>\n",
       "      <td>2020</td>\n",
       "      <td>TV-14</td>\n",
       "      <td>5 min</td>\n",
       "      <td>Action &amp; Adventure, Anime Features, Internatio...</td>\n",
       "      <td>A young warrior and her familiar search for th...</td>\n",
       "      <td>5</td>\n",
       "      <td>min</td>\n",
       "    </tr>\n",
       "    <tr>\n",
       "      <th>3777</th>\n",
       "      <td>s3778</td>\n",
       "      <td>Movie</td>\n",
       "      <td>Silent</td>\n",
       "      <td>Limbert Fabian, Brandon Oldenburg</td>\n",
       "      <td>&lt;NA&gt;</td>\n",
       "      <td>United States</td>\n",
       "      <td>2019-06-04</td>\n",
       "      <td>2014</td>\n",
       "      <td>TV-Y</td>\n",
       "      <td>3 min</td>\n",
       "      <td>Children &amp; Family Movies, Sci-Fi &amp; Fantasy</td>\n",
       "      <td>\"Silent\" is an animated short film created by ...</td>\n",
       "      <td>3</td>\n",
       "      <td>min</td>\n",
       "    </tr>\n",
       "  </tbody>\n",
       "</table>\n",
       "</div>"
      ],
      "text/plain": [
       "     show_id   type             title                           director  \\\n",
       "1484   s1485  Movie  Cops and Robbers     Arnon Manor, Timothy Ware-Hill   \n",
       "1557   s1558  Movie            Canvas                 Frank E. Abney III   \n",
       "2713   s2714  Movie       Sol Levante                       Akira Saitoh   \n",
       "3777   s3778  Movie            Silent  Limbert Fabian, Brandon Oldenburg   \n",
       "\n",
       "                   cast        country date_added  release_year rating  \\\n",
       "1484  Timothy Ware-Hill  United States 2020-12-28          2020  PG-13   \n",
       "1557               <NA>  United States 2020-12-11          2020      G   \n",
       "2713               <NA>          Japan 2020-04-02          2020  TV-14   \n",
       "3777               <NA>  United States 2019-06-04          2014   TV-Y   \n",
       "\n",
       "     duration                                          listed_in  \\\n",
       "1484    8 min                                             Dramas   \n",
       "1557    9 min                   Children & Family Movies, Dramas   \n",
       "2713    5 min  Action & Adventure, Anime Features, Internatio...   \n",
       "3777    3 min         Children & Family Movies, Sci-Fi & Fantasy   \n",
       "\n",
       "                                            description  \\\n",
       "1484  Animation and activism unite in this multimedi...   \n",
       "1557  After a heartbreaking loss, a grandfather stru...   \n",
       "2713  A young warrior and her familiar search for th...   \n",
       "3777  \"Silent\" is an animated short film created by ...   \n",
       "\n",
       "      Количество минут/сезонов Минуты/Сезоны  \n",
       "1484                         8           min  \n",
       "1557                         9           min  \n",
       "2713                         5           min  \n",
       "3777                         3           min  "
      ]
     },
     "execution_count": 25,
     "metadata": {},
     "output_type": "execute_result"
    }
   ],
   "source": [
    "df_movie[df_movie['Количество минут/сезонов'] <10]"
   ]
  },
  {
   "cell_type": "markdown",
   "id": "e39c6478-7f2b-40a7-ab22-e9fc5c9ef6d9",
   "metadata": {
    "panel-layout": {
     "height": 43.18359375,
     "visible": true,
     "width": 100
    }
   },
   "source": [
    "#### После проверки на официальном сайте Netflix, все данные оказались корректными."
   ]
  },
  {
   "cell_type": "markdown",
   "id": "87840504-b934-49d6-a14e-aaf93000aec1",
   "metadata": {
    "panel-layout": {
     "height": 40.9375,
     "visible": true,
     "width": 100
    }
   },
   "source": [
    "##### Теперь проверим на корректность фильмы с количеством минут более 200"
   ]
  },
  {
   "cell_type": "code",
   "execution_count": 26,
   "id": "5e067772-e7a0-4791-be92-1f19de595b89",
   "metadata": {
    "panel-layout": {
     "height": 2519.58984375,
     "visible": true,
     "width": 100
    }
   },
   "outputs": [
    {
     "data": {
      "text/html": [
       "<div>\n",
       "<style scoped>\n",
       "    .dataframe tbody tr th:only-of-type {\n",
       "        vertical-align: middle;\n",
       "    }\n",
       "\n",
       "    .dataframe tbody tr th {\n",
       "        vertical-align: top;\n",
       "    }\n",
       "\n",
       "    .dataframe thead th {\n",
       "        text-align: right;\n",
       "    }\n",
       "</style>\n",
       "<table border=\"1\" class=\"dataframe\">\n",
       "  <thead>\n",
       "    <tr style=\"text-align: right;\">\n",
       "      <th></th>\n",
       "      <th>show_id</th>\n",
       "      <th>type</th>\n",
       "      <th>title</th>\n",
       "      <th>director</th>\n",
       "      <th>cast</th>\n",
       "      <th>country</th>\n",
       "      <th>date_added</th>\n",
       "      <th>release_year</th>\n",
       "      <th>rating</th>\n",
       "      <th>duration</th>\n",
       "      <th>listed_in</th>\n",
       "      <th>description</th>\n",
       "      <th>Количество минут/сезонов</th>\n",
       "      <th>Минуты/Сезоны</th>\n",
       "    </tr>\n",
       "  </thead>\n",
       "  <tbody>\n",
       "    <tr>\n",
       "      <th>166</th>\n",
       "      <td>s167</td>\n",
       "      <td>Movie</td>\n",
       "      <td>Once Upon a Time in America</td>\n",
       "      <td>Sergio Leone</td>\n",
       "      <td>Robert De Niro, James Woods, Elizabeth McGover...</td>\n",
       "      <td>Italy, United States</td>\n",
       "      <td>2021-09-01</td>\n",
       "      <td>1984</td>\n",
       "      <td>R</td>\n",
       "      <td>229 min</td>\n",
       "      <td>Classic Movies, Dramas</td>\n",
       "      <td>Director Sergio Leone's sprawling crime epic f...</td>\n",
       "      <td>229</td>\n",
       "      <td>min</td>\n",
       "    </tr>\n",
       "    <tr>\n",
       "      <th>717</th>\n",
       "      <td>s718</td>\n",
       "      <td>Movie</td>\n",
       "      <td>Headspace: Unwind Your Mind</td>\n",
       "      <td>&lt;NA&gt;</td>\n",
       "      <td>Andy Puddicombe, Evelyn Lewis Prieto, Ginger D...</td>\n",
       "      <td>&lt;NA&gt;</td>\n",
       "      <td>2021-06-15</td>\n",
       "      <td>2021</td>\n",
       "      <td>TV-G</td>\n",
       "      <td>273 min</td>\n",
       "      <td>Documentaries</td>\n",
       "      <td>Do you want to relax, meditate or sleep deeply...</td>\n",
       "      <td>273</td>\n",
       "      <td>min</td>\n",
       "    </tr>\n",
       "    <tr>\n",
       "      <th>806</th>\n",
       "      <td>s807</td>\n",
       "      <td>Movie</td>\n",
       "      <td>Seven Souls in the Skull Castle: Season Moon J...</td>\n",
       "      <td>Hidenori Inoue</td>\n",
       "      <td>Sota Fukushi, Taichi Saotome, Shohei Miura, Ke...</td>\n",
       "      <td>&lt;NA&gt;</td>\n",
       "      <td>2021-06-02</td>\n",
       "      <td>2017</td>\n",
       "      <td>TV-14</td>\n",
       "      <td>204 min</td>\n",
       "      <td>Action &amp; Adventure, Dramas, International Movies</td>\n",
       "      <td>Japan, 1590. Wandering samurai band together t...</td>\n",
       "      <td>204</td>\n",
       "      <td>min</td>\n",
       "    </tr>\n",
       "    <tr>\n",
       "      <th>807</th>\n",
       "      <td>s808</td>\n",
       "      <td>Movie</td>\n",
       "      <td>Seven Souls in the Skull Castle: Season Moon K...</td>\n",
       "      <td>Hidenori Inoue</td>\n",
       "      <td>Mamoru Miyano, Hiroki Suzuki, Tomoki Hirose, R...</td>\n",
       "      <td>&lt;NA&gt;</td>\n",
       "      <td>2021-06-02</td>\n",
       "      <td>2017</td>\n",
       "      <td>TV-PG</td>\n",
       "      <td>212 min</td>\n",
       "      <td>Action &amp; Adventure, Dramas, International Movies</td>\n",
       "      <td>Japan, 1590. Wandering samurai band together t...</td>\n",
       "      <td>212</td>\n",
       "      <td>min</td>\n",
       "    </tr>\n",
       "    <tr>\n",
       "      <th>1019</th>\n",
       "      <td>s1020</td>\n",
       "      <td>Movie</td>\n",
       "      <td>Lagaan</td>\n",
       "      <td>Ashutosh Gowariker</td>\n",
       "      <td>Aamir Khan, Gracy Singh, Rachel Shelley, Paul ...</td>\n",
       "      <td>India, United Kingdom</td>\n",
       "      <td>2021-04-17</td>\n",
       "      <td>2001</td>\n",
       "      <td>PG</td>\n",
       "      <td>224 min</td>\n",
       "      <td>Dramas, International Movies, Music &amp; Musicals</td>\n",
       "      <td>In 1890s India, an arrogant British commander ...</td>\n",
       "      <td>224</td>\n",
       "      <td>min</td>\n",
       "    </tr>\n",
       "    <tr>\n",
       "      <th>2126</th>\n",
       "      <td>s2127</td>\n",
       "      <td>Movie</td>\n",
       "      <td>What's Your Raashee?</td>\n",
       "      <td>Ashutosh Gowariker</td>\n",
       "      <td>Harman Baweja, Priyanka Chopra, Manju Singh, A...</td>\n",
       "      <td>India</td>\n",
       "      <td>2020-08-15</td>\n",
       "      <td>2009</td>\n",
       "      <td>TV-PG</td>\n",
       "      <td>203 min</td>\n",
       "      <td>Comedies, International Movies, Music &amp; Musicals</td>\n",
       "      <td>To protect his family from ruin, Yogesh must m...</td>\n",
       "      <td>203</td>\n",
       "      <td>min</td>\n",
       "    </tr>\n",
       "    <tr>\n",
       "      <th>2483</th>\n",
       "      <td>s2484</td>\n",
       "      <td>Movie</td>\n",
       "      <td>Fifty Year Old Teenager</td>\n",
       "      <td>Fouad Al Shatti</td>\n",
       "      <td>Abdulhussain Abdulredah, Haifaa Adel, Dawood H...</td>\n",
       "      <td>&lt;NA&gt;</td>\n",
       "      <td>2020-05-21</td>\n",
       "      <td>1996</td>\n",
       "      <td>TV-14</td>\n",
       "      <td>204 min</td>\n",
       "      <td>Comedies, International Movies</td>\n",
       "      <td>The life of a married 50-year-old doctor turns...</td>\n",
       "      <td>204</td>\n",
       "      <td>min</td>\n",
       "    </tr>\n",
       "    <tr>\n",
       "      <th>2484</th>\n",
       "      <td>s2485</td>\n",
       "      <td>Movie</td>\n",
       "      <td>Lock Your Girls In</td>\n",
       "      <td>Fouad El-Mohandes</td>\n",
       "      <td>Fouad El-Mohandes, Sanaa Younes, Sherihan, Ahm...</td>\n",
       "      <td>&lt;NA&gt;</td>\n",
       "      <td>2020-05-21</td>\n",
       "      <td>1982</td>\n",
       "      <td>TV-PG</td>\n",
       "      <td>233 min</td>\n",
       "      <td>Comedies, International Movies, Romantic Movies</td>\n",
       "      <td>A widower believes he must marry off his three...</td>\n",
       "      <td>233</td>\n",
       "      <td>min</td>\n",
       "    </tr>\n",
       "    <tr>\n",
       "      <th>2487</th>\n",
       "      <td>s2488</td>\n",
       "      <td>Movie</td>\n",
       "      <td>No Longer kids</td>\n",
       "      <td>Samir Al Asfory</td>\n",
       "      <td>Said Saleh, Hassan Moustafa, Ahmed Zaki, Youne...</td>\n",
       "      <td>Egypt</td>\n",
       "      <td>2020-05-21</td>\n",
       "      <td>1979</td>\n",
       "      <td>TV-14</td>\n",
       "      <td>237 min</td>\n",
       "      <td>Comedies, Dramas, International Movies</td>\n",
       "      <td>Hoping to prevent their father from skipping t...</td>\n",
       "      <td>237</td>\n",
       "      <td>min</td>\n",
       "    </tr>\n",
       "    <tr>\n",
       "      <th>2488</th>\n",
       "      <td>s2489</td>\n",
       "      <td>Movie</td>\n",
       "      <td>Raya and Sakina</td>\n",
       "      <td>Hussein Kamal</td>\n",
       "      <td>Suhair El-Babili, Shadia, Abdel Moneim Madboul...</td>\n",
       "      <td>&lt;NA&gt;</td>\n",
       "      <td>2020-05-21</td>\n",
       "      <td>1984</td>\n",
       "      <td>TV-14</td>\n",
       "      <td>230 min</td>\n",
       "      <td>Comedies, Dramas, International Movies</td>\n",
       "      <td>When robberies and murders targeting women swe...</td>\n",
       "      <td>230</td>\n",
       "      <td>min</td>\n",
       "    </tr>\n",
       "    <tr>\n",
       "      <th>2491</th>\n",
       "      <td>s2492</td>\n",
       "      <td>Movie</td>\n",
       "      <td>The School of Mischief</td>\n",
       "      <td>Houssam El-Din Mustafa</td>\n",
       "      <td>Suhair El-Babili, Adel Emam, Saeed Saleh, Youn...</td>\n",
       "      <td>Egypt</td>\n",
       "      <td>2020-05-21</td>\n",
       "      <td>1973</td>\n",
       "      <td>TV-14</td>\n",
       "      <td>253 min</td>\n",
       "      <td>Comedies, Dramas, International Movies</td>\n",
       "      <td>A high school teacher volunteers to transform ...</td>\n",
       "      <td>253</td>\n",
       "      <td>min</td>\n",
       "    </tr>\n",
       "    <tr>\n",
       "      <th>2632</th>\n",
       "      <td>s2633</td>\n",
       "      <td>Movie</td>\n",
       "      <td>No Direction Home: Bob Dylan</td>\n",
       "      <td>Martin Scorsese</td>\n",
       "      <td>Bob Dylan, Joan Baez, Dave Van Ronk, Peter Yar...</td>\n",
       "      <td>United Kingdom, United States, Japan</td>\n",
       "      <td>2020-04-25</td>\n",
       "      <td>2005</td>\n",
       "      <td>TV-MA</td>\n",
       "      <td>208 min</td>\n",
       "      <td>Documentaries, Music &amp; Musicals</td>\n",
       "      <td>Featuring rare concert footage and interviews ...</td>\n",
       "      <td>208</td>\n",
       "      <td>min</td>\n",
       "    </tr>\n",
       "    <tr>\n",
       "      <th>2731</th>\n",
       "      <td>s2732</td>\n",
       "      <td>Movie</td>\n",
       "      <td>Kabhi Khushi Kabhie Gham</td>\n",
       "      <td>Karan Johar</td>\n",
       "      <td>Amitabh Bachchan, Jaya Bhaduri, Shah Rukh Khan...</td>\n",
       "      <td>India</td>\n",
       "      <td>2020-04-01</td>\n",
       "      <td>2001</td>\n",
       "      <td>TV-14</td>\n",
       "      <td>209 min</td>\n",
       "      <td>Dramas, International Movies</td>\n",
       "      <td>Years after his father disowns his adopted bro...</td>\n",
       "      <td>209</td>\n",
       "      <td>min</td>\n",
       "    </tr>\n",
       "    <tr>\n",
       "      <th>3227</th>\n",
       "      <td>s3228</td>\n",
       "      <td>Movie</td>\n",
       "      <td>The Irishman</td>\n",
       "      <td>Martin Scorsese</td>\n",
       "      <td>Robert De Niro, Al Pacino, Joe Pesci, Harvey K...</td>\n",
       "      <td>United States</td>\n",
       "      <td>2019-11-27</td>\n",
       "      <td>2019</td>\n",
       "      <td>R</td>\n",
       "      <td>209 min</td>\n",
       "      <td>Dramas</td>\n",
       "      <td>Hit man Frank Sheeran looks back at the secret...</td>\n",
       "      <td>209</td>\n",
       "      <td>min</td>\n",
       "    </tr>\n",
       "    <tr>\n",
       "      <th>4253</th>\n",
       "      <td>s4254</td>\n",
       "      <td>Movie</td>\n",
       "      <td>Black Mirror: Bandersnatch</td>\n",
       "      <td>&lt;NA&gt;</td>\n",
       "      <td>Fionn Whitehead, Will Poulter, Craig Parkinson...</td>\n",
       "      <td>United States</td>\n",
       "      <td>2018-12-28</td>\n",
       "      <td>2018</td>\n",
       "      <td>TV-MA</td>\n",
       "      <td>312 min</td>\n",
       "      <td>Dramas, International Movies, Sci-Fi &amp; Fantasy</td>\n",
       "      <td>In 1984, a young programmer begins to question...</td>\n",
       "      <td>312</td>\n",
       "      <td>min</td>\n",
       "    </tr>\n",
       "    <tr>\n",
       "      <th>4573</th>\n",
       "      <td>s4574</td>\n",
       "      <td>Movie</td>\n",
       "      <td>Jodhaa Akbar</td>\n",
       "      <td>Ashutosh Gowariker</td>\n",
       "      <td>Hrithik Roshan, Aishwarya Rai Bachchan, Sonu S...</td>\n",
       "      <td>India</td>\n",
       "      <td>2018-10-01</td>\n",
       "      <td>2008</td>\n",
       "      <td>TV-14</td>\n",
       "      <td>214 min</td>\n",
       "      <td>Action &amp; Adventure, Dramas, International Movies</td>\n",
       "      <td>In 16th-century India, what begins as a strate...</td>\n",
       "      <td>214</td>\n",
       "      <td>min</td>\n",
       "    </tr>\n",
       "    <tr>\n",
       "      <th>7932</th>\n",
       "      <td>s7933</td>\n",
       "      <td>Movie</td>\n",
       "      <td>Sangam</td>\n",
       "      <td>Raj Kapoor</td>\n",
       "      <td>Raj Kapoor, Vyjayanthimala, Rajendra Kumar, La...</td>\n",
       "      <td>India</td>\n",
       "      <td>2019-12-31</td>\n",
       "      <td>1964</td>\n",
       "      <td>TV-14</td>\n",
       "      <td>228 min</td>\n",
       "      <td>Classic Movies, Dramas, International Movies</td>\n",
       "      <td>Returning home from war after being assumed de...</td>\n",
       "      <td>228</td>\n",
       "      <td>min</td>\n",
       "    </tr>\n",
       "    <tr>\n",
       "      <th>8327</th>\n",
       "      <td>s8328</td>\n",
       "      <td>Movie</td>\n",
       "      <td>The Gospel of Luke</td>\n",
       "      <td>David Batty</td>\n",
       "      <td>Selva Rasalingam, Karima Gouit, Mourad Zaoui, ...</td>\n",
       "      <td>United States, United Kingdom, Morocco</td>\n",
       "      <td>2018-10-19</td>\n",
       "      <td>2015</td>\n",
       "      <td>TV-14</td>\n",
       "      <td>205 min</td>\n",
       "      <td>Dramas, Faith &amp; Spirituality</td>\n",
       "      <td>Word-for-word Bible texts of the entire book o...</td>\n",
       "      <td>205</td>\n",
       "      <td>min</td>\n",
       "    </tr>\n",
       "    <tr>\n",
       "      <th>8404</th>\n",
       "      <td>s8405</td>\n",
       "      <td>Movie</td>\n",
       "      <td>The Lord of the Rings: The Return of the King</td>\n",
       "      <td>Peter Jackson</td>\n",
       "      <td>Elijah Wood, Ian McKellen, Liv Tyler, Viggo Mo...</td>\n",
       "      <td>New Zealand, United States</td>\n",
       "      <td>2020-01-01</td>\n",
       "      <td>2003</td>\n",
       "      <td>PG-13</td>\n",
       "      <td>201 min</td>\n",
       "      <td>Action &amp; Adventure, Sci-Fi &amp; Fantasy</td>\n",
       "      <td>Aragorn is revealed as the heir to the ancient...</td>\n",
       "      <td>201</td>\n",
       "      <td>min</td>\n",
       "    </tr>\n",
       "  </tbody>\n",
       "</table>\n",
       "</div>"
      ],
      "text/plain": [
       "     show_id   type                                              title  \\\n",
       "166     s167  Movie                        Once Upon a Time in America   \n",
       "717     s718  Movie                        Headspace: Unwind Your Mind   \n",
       "806     s807  Movie  Seven Souls in the Skull Castle: Season Moon J...   \n",
       "807     s808  Movie  Seven Souls in the Skull Castle: Season Moon K...   \n",
       "1019   s1020  Movie                                             Lagaan   \n",
       "2126   s2127  Movie                               What's Your Raashee?   \n",
       "2483   s2484  Movie                            Fifty Year Old Teenager   \n",
       "2484   s2485  Movie                                 Lock Your Girls In   \n",
       "2487   s2488  Movie                                     No Longer kids   \n",
       "2488   s2489  Movie                                    Raya and Sakina   \n",
       "2491   s2492  Movie                             The School of Mischief   \n",
       "2632   s2633  Movie                       No Direction Home: Bob Dylan   \n",
       "2731   s2732  Movie                           Kabhi Khushi Kabhie Gham   \n",
       "3227   s3228  Movie                                       The Irishman   \n",
       "4253   s4254  Movie                         Black Mirror: Bandersnatch   \n",
       "4573   s4574  Movie                                       Jodhaa Akbar   \n",
       "7932   s7933  Movie                                             Sangam   \n",
       "8327   s8328  Movie                                 The Gospel of Luke   \n",
       "8404   s8405  Movie      The Lord of the Rings: The Return of the King   \n",
       "\n",
       "                    director  \\\n",
       "166             Sergio Leone   \n",
       "717                     <NA>   \n",
       "806           Hidenori Inoue   \n",
       "807           Hidenori Inoue   \n",
       "1019      Ashutosh Gowariker   \n",
       "2126      Ashutosh Gowariker   \n",
       "2483         Fouad Al Shatti   \n",
       "2484       Fouad El-Mohandes   \n",
       "2487         Samir Al Asfory   \n",
       "2488           Hussein Kamal   \n",
       "2491  Houssam El-Din Mustafa   \n",
       "2632         Martin Scorsese   \n",
       "2731             Karan Johar   \n",
       "3227         Martin Scorsese   \n",
       "4253                    <NA>   \n",
       "4573      Ashutosh Gowariker   \n",
       "7932              Raj Kapoor   \n",
       "8327             David Batty   \n",
       "8404           Peter Jackson   \n",
       "\n",
       "                                                   cast  \\\n",
       "166   Robert De Niro, James Woods, Elizabeth McGover...   \n",
       "717   Andy Puddicombe, Evelyn Lewis Prieto, Ginger D...   \n",
       "806   Sota Fukushi, Taichi Saotome, Shohei Miura, Ke...   \n",
       "807   Mamoru Miyano, Hiroki Suzuki, Tomoki Hirose, R...   \n",
       "1019  Aamir Khan, Gracy Singh, Rachel Shelley, Paul ...   \n",
       "2126  Harman Baweja, Priyanka Chopra, Manju Singh, A...   \n",
       "2483  Abdulhussain Abdulredah, Haifaa Adel, Dawood H...   \n",
       "2484  Fouad El-Mohandes, Sanaa Younes, Sherihan, Ahm...   \n",
       "2487  Said Saleh, Hassan Moustafa, Ahmed Zaki, Youne...   \n",
       "2488  Suhair El-Babili, Shadia, Abdel Moneim Madboul...   \n",
       "2491  Suhair El-Babili, Adel Emam, Saeed Saleh, Youn...   \n",
       "2632  Bob Dylan, Joan Baez, Dave Van Ronk, Peter Yar...   \n",
       "2731  Amitabh Bachchan, Jaya Bhaduri, Shah Rukh Khan...   \n",
       "3227  Robert De Niro, Al Pacino, Joe Pesci, Harvey K...   \n",
       "4253  Fionn Whitehead, Will Poulter, Craig Parkinson...   \n",
       "4573  Hrithik Roshan, Aishwarya Rai Bachchan, Sonu S...   \n",
       "7932  Raj Kapoor, Vyjayanthimala, Rajendra Kumar, La...   \n",
       "8327  Selva Rasalingam, Karima Gouit, Mourad Zaoui, ...   \n",
       "8404  Elijah Wood, Ian McKellen, Liv Tyler, Viggo Mo...   \n",
       "\n",
       "                                     country date_added  release_year rating  \\\n",
       "166                     Italy, United States 2021-09-01          1984      R   \n",
       "717                                     <NA> 2021-06-15          2021   TV-G   \n",
       "806                                     <NA> 2021-06-02          2017  TV-14   \n",
       "807                                     <NA> 2021-06-02          2017  TV-PG   \n",
       "1019                   India, United Kingdom 2021-04-17          2001     PG   \n",
       "2126                                   India 2020-08-15          2009  TV-PG   \n",
       "2483                                    <NA> 2020-05-21          1996  TV-14   \n",
       "2484                                    <NA> 2020-05-21          1982  TV-PG   \n",
       "2487                                   Egypt 2020-05-21          1979  TV-14   \n",
       "2488                                    <NA> 2020-05-21          1984  TV-14   \n",
       "2491                                   Egypt 2020-05-21          1973  TV-14   \n",
       "2632    United Kingdom, United States, Japan 2020-04-25          2005  TV-MA   \n",
       "2731                                   India 2020-04-01          2001  TV-14   \n",
       "3227                           United States 2019-11-27          2019      R   \n",
       "4253                           United States 2018-12-28          2018  TV-MA   \n",
       "4573                                   India 2018-10-01          2008  TV-14   \n",
       "7932                                   India 2019-12-31          1964  TV-14   \n",
       "8327  United States, United Kingdom, Morocco 2018-10-19          2015  TV-14   \n",
       "8404              New Zealand, United States 2020-01-01          2003  PG-13   \n",
       "\n",
       "     duration                                         listed_in  \\\n",
       "166   229 min                            Classic Movies, Dramas   \n",
       "717   273 min                                     Documentaries   \n",
       "806   204 min  Action & Adventure, Dramas, International Movies   \n",
       "807   212 min  Action & Adventure, Dramas, International Movies   \n",
       "1019  224 min    Dramas, International Movies, Music & Musicals   \n",
       "2126  203 min  Comedies, International Movies, Music & Musicals   \n",
       "2483  204 min                    Comedies, International Movies   \n",
       "2484  233 min   Comedies, International Movies, Romantic Movies   \n",
       "2487  237 min            Comedies, Dramas, International Movies   \n",
       "2488  230 min            Comedies, Dramas, International Movies   \n",
       "2491  253 min            Comedies, Dramas, International Movies   \n",
       "2632  208 min                   Documentaries, Music & Musicals   \n",
       "2731  209 min                      Dramas, International Movies   \n",
       "3227  209 min                                            Dramas   \n",
       "4253  312 min    Dramas, International Movies, Sci-Fi & Fantasy   \n",
       "4573  214 min  Action & Adventure, Dramas, International Movies   \n",
       "7932  228 min      Classic Movies, Dramas, International Movies   \n",
       "8327  205 min                      Dramas, Faith & Spirituality   \n",
       "8404  201 min              Action & Adventure, Sci-Fi & Fantasy   \n",
       "\n",
       "                                            description  \\\n",
       "166   Director Sergio Leone's sprawling crime epic f...   \n",
       "717   Do you want to relax, meditate or sleep deeply...   \n",
       "806   Japan, 1590. Wandering samurai band together t...   \n",
       "807   Japan, 1590. Wandering samurai band together t...   \n",
       "1019  In 1890s India, an arrogant British commander ...   \n",
       "2126  To protect his family from ruin, Yogesh must m...   \n",
       "2483  The life of a married 50-year-old doctor turns...   \n",
       "2484  A widower believes he must marry off his three...   \n",
       "2487  Hoping to prevent their father from skipping t...   \n",
       "2488  When robberies and murders targeting women swe...   \n",
       "2491  A high school teacher volunteers to transform ...   \n",
       "2632  Featuring rare concert footage and interviews ...   \n",
       "2731  Years after his father disowns his adopted bro...   \n",
       "3227  Hit man Frank Sheeran looks back at the secret...   \n",
       "4253  In 1984, a young programmer begins to question...   \n",
       "4573  In 16th-century India, what begins as a strate...   \n",
       "7932  Returning home from war after being assumed de...   \n",
       "8327  Word-for-word Bible texts of the entire book o...   \n",
       "8404  Aragorn is revealed as the heir to the ancient...   \n",
       "\n",
       "      Количество минут/сезонов Минуты/Сезоны  \n",
       "166                        229           min  \n",
       "717                        273           min  \n",
       "806                        204           min  \n",
       "807                        212           min  \n",
       "1019                       224           min  \n",
       "2126                       203           min  \n",
       "2483                       204           min  \n",
       "2484                       233           min  \n",
       "2487                       237           min  \n",
       "2488                       230           min  \n",
       "2491                       253           min  \n",
       "2632                       208           min  \n",
       "2731                       209           min  \n",
       "3227                       209           min  \n",
       "4253                       312           min  \n",
       "4573                       214           min  \n",
       "7932                       228           min  \n",
       "8327                       205           min  \n",
       "8404                       201           min  "
      ]
     },
     "execution_count": 26,
     "metadata": {},
     "output_type": "execute_result"
    }
   ],
   "source": [
    "df_movie[df_movie['Количество минут/сезонов'] > 200]"
   ]
  },
  {
   "cell_type": "markdown",
   "id": "aaf321f4-87d7-4ca6-a585-b0c63cb053d3",
   "metadata": {
    "panel-layout": {
     "height": 68.33984375,
     "visible": true,
     "width": 100
    }
   },
   "source": [
    "#### После проверки нескольких фильмов можно сделать вывод, что с количеством минут 200-250 действительно существуют\n",
    "#### Проверим фильмы с количеством минут 250+"
   ]
  },
  {
   "cell_type": "code",
   "execution_count": 27,
   "id": "e2456e2b-8e6d-460b-9a0b-72f20c3f75de",
   "metadata": {
    "panel-layout": {
     "height": 952.71484375,
     "visible": true,
     "width": 100
    }
   },
   "outputs": [
    {
     "data": {
      "text/html": [
       "<div>\n",
       "<style scoped>\n",
       "    .dataframe tbody tr th:only-of-type {\n",
       "        vertical-align: middle;\n",
       "    }\n",
       "\n",
       "    .dataframe tbody tr th {\n",
       "        vertical-align: top;\n",
       "    }\n",
       "\n",
       "    .dataframe thead th {\n",
       "        text-align: right;\n",
       "    }\n",
       "</style>\n",
       "<table border=\"1\" class=\"dataframe\">\n",
       "  <thead>\n",
       "    <tr style=\"text-align: right;\">\n",
       "      <th></th>\n",
       "      <th>show_id</th>\n",
       "      <th>type</th>\n",
       "      <th>title</th>\n",
       "      <th>director</th>\n",
       "      <th>cast</th>\n",
       "      <th>country</th>\n",
       "      <th>date_added</th>\n",
       "      <th>release_year</th>\n",
       "      <th>rating</th>\n",
       "      <th>duration</th>\n",
       "      <th>listed_in</th>\n",
       "      <th>description</th>\n",
       "      <th>Количество минут/сезонов</th>\n",
       "      <th>Минуты/Сезоны</th>\n",
       "    </tr>\n",
       "  </thead>\n",
       "  <tbody>\n",
       "    <tr>\n",
       "      <th>717</th>\n",
       "      <td>s718</td>\n",
       "      <td>Movie</td>\n",
       "      <td>Headspace: Unwind Your Mind</td>\n",
       "      <td>&lt;NA&gt;</td>\n",
       "      <td>Andy Puddicombe, Evelyn Lewis Prieto, Ginger D...</td>\n",
       "      <td>&lt;NA&gt;</td>\n",
       "      <td>2021-06-15</td>\n",
       "      <td>2021</td>\n",
       "      <td>TV-G</td>\n",
       "      <td>273 min</td>\n",
       "      <td>Documentaries</td>\n",
       "      <td>Do you want to relax, meditate or sleep deeply...</td>\n",
       "      <td>273</td>\n",
       "      <td>min</td>\n",
       "    </tr>\n",
       "    <tr>\n",
       "      <th>2491</th>\n",
       "      <td>s2492</td>\n",
       "      <td>Movie</td>\n",
       "      <td>The School of Mischief</td>\n",
       "      <td>Houssam El-Din Mustafa</td>\n",
       "      <td>Suhair El-Babili, Adel Emam, Saeed Saleh, Youn...</td>\n",
       "      <td>Egypt</td>\n",
       "      <td>2020-05-21</td>\n",
       "      <td>1973</td>\n",
       "      <td>TV-14</td>\n",
       "      <td>253 min</td>\n",
       "      <td>Comedies, Dramas, International Movies</td>\n",
       "      <td>A high school teacher volunteers to transform ...</td>\n",
       "      <td>253</td>\n",
       "      <td>min</td>\n",
       "    </tr>\n",
       "    <tr>\n",
       "      <th>4253</th>\n",
       "      <td>s4254</td>\n",
       "      <td>Movie</td>\n",
       "      <td>Black Mirror: Bandersnatch</td>\n",
       "      <td>&lt;NA&gt;</td>\n",
       "      <td>Fionn Whitehead, Will Poulter, Craig Parkinson...</td>\n",
       "      <td>United States</td>\n",
       "      <td>2018-12-28</td>\n",
       "      <td>2018</td>\n",
       "      <td>TV-MA</td>\n",
       "      <td>312 min</td>\n",
       "      <td>Dramas, International Movies, Sci-Fi &amp; Fantasy</td>\n",
       "      <td>In 1984, a young programmer begins to question...</td>\n",
       "      <td>312</td>\n",
       "      <td>min</td>\n",
       "    </tr>\n",
       "  </tbody>\n",
       "</table>\n",
       "</div>"
      ],
      "text/plain": [
       "     show_id   type                        title                director  \\\n",
       "717     s718  Movie  Headspace: Unwind Your Mind                    <NA>   \n",
       "2491   s2492  Movie       The School of Mischief  Houssam El-Din Mustafa   \n",
       "4253   s4254  Movie   Black Mirror: Bandersnatch                    <NA>   \n",
       "\n",
       "                                                   cast        country  \\\n",
       "717   Andy Puddicombe, Evelyn Lewis Prieto, Ginger D...           <NA>   \n",
       "2491  Suhair El-Babili, Adel Emam, Saeed Saleh, Youn...          Egypt   \n",
       "4253  Fionn Whitehead, Will Poulter, Craig Parkinson...  United States   \n",
       "\n",
       "     date_added  release_year rating duration  \\\n",
       "717  2021-06-15          2021   TV-G  273 min   \n",
       "2491 2020-05-21          1973  TV-14  253 min   \n",
       "4253 2018-12-28          2018  TV-MA  312 min   \n",
       "\n",
       "                                           listed_in  \\\n",
       "717                                    Documentaries   \n",
       "2491          Comedies, Dramas, International Movies   \n",
       "4253  Dramas, International Movies, Sci-Fi & Fantasy   \n",
       "\n",
       "                                            description  \\\n",
       "717   Do you want to relax, meditate or sleep deeply...   \n",
       "2491  A high school teacher volunteers to transform ...   \n",
       "4253  In 1984, a young programmer begins to question...   \n",
       "\n",
       "      Количество минут/сезонов Минуты/Сезоны  \n",
       "717                        273           min  \n",
       "2491                       253           min  \n",
       "4253                       312           min  "
      ]
     },
     "execution_count": 27,
     "metadata": {},
     "output_type": "execute_result"
    }
   ],
   "source": [
    "df_movie[df_movie['Количество минут/сезонов'] > 250]"
   ]
  },
  {
   "cell_type": "markdown",
   "id": "dca340a0-70ff-4a7e-ad15-350f2c7be7ea",
   "metadata": {
    "panel-layout": {
     "height": 60.3125,
     "visible": true,
     "width": 100
    }
   },
   "source": [
    "#### У таких фильмов оказалось некорректным указанное количество минут. У двух из этих фильмов взято количество минут анталогии (сериалы, где каждая серия представляет собой самостоятельную историю), а не самого фильма. У третьего - количество минут просто некорректное."
   ]
  },
  {
   "cell_type": "markdown",
   "id": "a49e5058-0e7e-4c49-a394-923fb7e36354",
   "metadata": {
    "panel-layout": {
     "height": 85.46875,
     "visible": true,
     "width": 100
    }
   },
   "source": [
    "#### Можно было бы провести кластеризацию и определив, к какому кластеру относятся фильмы, на этой основе добавить среднее значение этого кластера. Но для данного проекта я не готов это делать. Так же можно добавить значения вручную.\n",
    "#### Я же буду изменять значения просто путем замены на медиану"
   ]
  },
  {
   "cell_type": "code",
   "execution_count": 28,
   "id": "d0565193-22d8-472e-9a45-fe7c6e8292af",
   "metadata": {},
   "outputs": [],
   "source": [
    "df_movie.loc[df_movie['Количество минут/сезонов'] > 250, 'Количество минут/сезонов'] = df_movie[df_movie['Количество минут/сезонов'] <= 250]['Количество минут/сезонов'].median()"
   ]
  },
  {
   "cell_type": "code",
   "execution_count": 29,
   "id": "3383eb86-fbae-4df1-977c-f1274986fcf4",
   "metadata": {
    "panel-layout": {
     "height": 700.99609375,
     "visible": true,
     "width": 100
    }
   },
   "outputs": [
    {
     "data": {
      "image/png": "[encoded data removed]",
      "text/plain": [
       "<Figure size 640x480 with 1 Axes>"
      ]
     },
     "metadata": {},
     "output_type": "display_data"
    }
   ],
   "source": [
    "sns.histplot(x='Количество минут/сезонов',data=df_movie)\n",
    "plt.title('Распределение длительности фильмов')\n",
    "plt.xlabel('Количество минут')\n",
    "plt.ylabel('Количество фильмов')\n",
    "\n",
    "plt.show()"
   ]
  },
  {
   "cell_type": "code",
   "execution_count": 30,
   "id": "9ff4813f-3222-44be-a30f-b4070700019d",
   "metadata": {
    "panel-layout": {
     "height": 700.99609375,
     "visible": true,
     "width": 100
    }
   },
   "outputs": [
    {
     "data": {
      "image/png": "[encoded data removed]",
      "text/plain": [
       "<Figure size 640x480 with 1 Axes>"
      ]
     },
     "metadata": {},
     "output_type": "display_data"
    }
   ],
   "source": [
    "sns.histplot(x='Количество минут/сезонов',data=df_show)\n",
    "plt.title('Распределение длительности шоу')\n",
    "plt.xlabel('Количество сезонов')\n",
    "plt.ylabel('Количество шоу')\n",
    "\n",
    "plt.show()"
   ]
  },
  {
   "cell_type": "markdown",
   "id": "e1f03ce6-b086-4221-803a-10b45e4ec63a",
   "metadata": {
    "panel-layout": {
     "height": 43.18359375,
     "visible": true,
     "width": 100
    }
   },
   "source": [
    "#### На гистограмме длительности шоу видно, что основная масса шоу длится 1-3 сезона. Проверим шоу, с длительностью более 13 сезонов"
   ]
  },
  {
   "cell_type": "code",
   "execution_count": 31,
   "id": "fef468d0-9426-4c8d-bfef-9025ea9caf6f",
   "metadata": {
    "panel-layout": {
     "height": 993.96484375,
     "visible": true,
     "width": 100
    }
   },
   "outputs": [
    {
     "data": {
      "text/html": [
       "<div>\n",
       "<style scoped>\n",
       "    .dataframe tbody tr th:only-of-type {\n",
       "        vertical-align: middle;\n",
       "    }\n",
       "\n",
       "    .dataframe tbody tr th {\n",
       "        vertical-align: top;\n",
       "    }\n",
       "\n",
       "    .dataframe thead th {\n",
       "        text-align: right;\n",
       "    }\n",
       "</style>\n",
       "<table border=\"1\" class=\"dataframe\">\n",
       "  <thead>\n",
       "    <tr style=\"text-align: right;\">\n",
       "      <th></th>\n",
       "      <th>show_id</th>\n",
       "      <th>type</th>\n",
       "      <th>title</th>\n",
       "      <th>director</th>\n",
       "      <th>cast</th>\n",
       "      <th>country</th>\n",
       "      <th>date_added</th>\n",
       "      <th>release_year</th>\n",
       "      <th>rating</th>\n",
       "      <th>duration</th>\n",
       "      <th>listed_in</th>\n",
       "      <th>description</th>\n",
       "      <th>Количество минут/сезонов</th>\n",
       "      <th>Минуты/Сезоны</th>\n",
       "    </tr>\n",
       "  </thead>\n",
       "  <tbody>\n",
       "    <tr>\n",
       "      <th>548</th>\n",
       "      <td>s549</td>\n",
       "      <td>TV Show</td>\n",
       "      <td>Grey's Anatomy</td>\n",
       "      <td>&lt;NA&gt;</td>\n",
       "      <td>Ellen Pompeo, Sandra Oh, Katherine Heigl, Just...</td>\n",
       "      <td>United States</td>\n",
       "      <td>2021-07-03</td>\n",
       "      <td>2020</td>\n",
       "      <td>TV-14</td>\n",
       "      <td>17 Seasons</td>\n",
       "      <td>Romantic TV Shows, TV Dramas</td>\n",
       "      <td>Intern (and eventual resident) Meredith Grey f...</td>\n",
       "      <td>17</td>\n",
       "      <td>Seasons</td>\n",
       "    </tr>\n",
       "    <tr>\n",
       "      <th>2423</th>\n",
       "      <td>s2424</td>\n",
       "      <td>TV Show</td>\n",
       "      <td>Supernatural</td>\n",
       "      <td>Phil Sgriccia</td>\n",
       "      <td>Jared Padalecki, Jensen Ackles, Mark Sheppard,...</td>\n",
       "      <td>United States, Canada</td>\n",
       "      <td>2020-06-05</td>\n",
       "      <td>2019</td>\n",
       "      <td>TV-14</td>\n",
       "      <td>15 Seasons</td>\n",
       "      <td>Classic &amp; Cult TV, TV Action &amp; Adventure, TV H...</td>\n",
       "      <td>Siblings Dean and Sam crisscross the country, ...</td>\n",
       "      <td>15</td>\n",
       "      <td>Seasons</td>\n",
       "    </tr>\n",
       "    <tr>\n",
       "      <th>4798</th>\n",
       "      <td>s4799</td>\n",
       "      <td>TV Show</td>\n",
       "      <td>NCIS</td>\n",
       "      <td>&lt;NA&gt;</td>\n",
       "      <td>Mark Harmon, Michael Weatherly, Pauley Perrett...</td>\n",
       "      <td>United States</td>\n",
       "      <td>2018-07-01</td>\n",
       "      <td>2017</td>\n",
       "      <td>TV-14</td>\n",
       "      <td>15 Seasons</td>\n",
       "      <td>Crime TV Shows, TV Dramas, TV Mysteries</td>\n",
       "      <td>Follow the quirky agents of the NCIS – the Nav...</td>\n",
       "      <td>15</td>\n",
       "      <td>Seasons</td>\n",
       "    </tr>\n",
       "  </tbody>\n",
       "</table>\n",
       "</div>"
      ],
      "text/plain": [
       "     show_id     type           title       director  \\\n",
       "548     s549  TV Show  Grey's Anatomy           <NA>   \n",
       "2423   s2424  TV Show    Supernatural  Phil Sgriccia   \n",
       "4798   s4799  TV Show            NCIS           <NA>   \n",
       "\n",
       "                                                   cast  \\\n",
       "548   Ellen Pompeo, Sandra Oh, Katherine Heigl, Just...   \n",
       "2423  Jared Padalecki, Jensen Ackles, Mark Sheppard,...   \n",
       "4798  Mark Harmon, Michael Weatherly, Pauley Perrett...   \n",
       "\n",
       "                    country date_added  release_year rating    duration  \\\n",
       "548           United States 2021-07-03          2020  TV-14  17 Seasons   \n",
       "2423  United States, Canada 2020-06-05          2019  TV-14  15 Seasons   \n",
       "4798          United States 2018-07-01          2017  TV-14  15 Seasons   \n",
       "\n",
       "                                              listed_in  \\\n",
       "548                        Romantic TV Shows, TV Dramas   \n",
       "2423  Classic & Cult TV, TV Action & Adventure, TV H...   \n",
       "4798            Crime TV Shows, TV Dramas, TV Mysteries   \n",
       "\n",
       "                                            description  \\\n",
       "548   Intern (and eventual resident) Meredith Grey f...   \n",
       "2423  Siblings Dean and Sam crisscross the country, ...   \n",
       "4798  Follow the quirky agents of the NCIS – the Nav...   \n",
       "\n",
       "      Количество минут/сезонов Минуты/Сезоны  \n",
       "548                         17       Seasons  \n",
       "2423                        15       Seasons  \n",
       "4798                        15       Seasons  "
      ]
     },
     "execution_count": 31,
     "metadata": {},
     "output_type": "execute_result"
    }
   ],
   "source": [
    "df_show[df_show['Количество минут/сезонов'] > 13]"
   ]
  },
  {
   "cell_type": "markdown",
   "id": "39f3d8ef-4ac6-4f4b-91f9-564b5be8a064",
   "metadata": {
    "panel-layout": {
     "height": 43.18359375,
     "visible": true,
     "width": 100
    }
   },
   "source": [
    "#### Проверка показала, что данные корректны."
   ]
  },
  {
   "cell_type": "markdown",
   "id": "38846515-6c45-48c8-af1e-3b759b6a7361",
   "metadata": {
    "panel-layout": {
     "height": 43.18359375,
     "visible": true,
     "width": 100
    }
   },
   "source": [
    "#### Вычислим стандартное отклонение и межквартильный размах для длительности фильмов/шоу"
   ]
  },
  {
   "cell_type": "code",
   "execution_count": 32,
   "id": "cede77c1-a0c4-469d-a16e-a18f13ff4cdc",
   "metadata": {
    "panel-layout": {
     "height": 700.99609375,
     "visible": true,
     "width": 100
    }
   },
   "outputs": [
    {
     "name": "stdout",
     "output_type": "stream",
     "text": [
      "Стандартное отклонение для фильмов: 28.003213801274033\n",
      "Стандартное отклонение для шоу: 1.5827519028726411\n"
     ]
    }
   ],
   "source": [
    "print('Стандартное отклонение для фильмов:', df_movie['Количество минут/сезонов'].std())\n",
    "print('Стандартное отклонение для шоу:', df_show['Количество минут/сезонов'].std())"
   ]
  },
  {
   "cell_type": "code",
   "execution_count": 33,
   "id": "17d2fb0d-2514-4e5c-b403-d46ecc40e8cb",
   "metadata": {
    "panel-layout": {
     "height": 700.99609375,
     "visible": true,
     "width": 100
    }
   },
   "outputs": [
    {
     "name": "stdout",
     "output_type": "stream",
     "text": [
      "Межквартильный размах для фильмов: 27.0\n",
      "Межквартильный размах для шоу: 1.0\n"
     ]
    }
   ],
   "source": [
    "Q1 = df_movie['Количество минут/сезонов'].quantile(0.25)\n",
    "Q3 = df_movie['Количество минут/сезонов'].quantile(0.75)\n",
    "IQR = Q3 - Q1\n",
    "print(f\"Межквартильный размах для фильмов: {IQR}\")\n",
    "Q1 = df_show['Количество минут/сезонов'].quantile(0.25)\n",
    "Q3 = df_show['Количество минут/сезонов'].quantile(0.75)\n",
    "IQR = Q3 - Q1\n",
    "print(f\"Межквартильный размах для шоу: {IQR}\")"
   ]
  },
  {
   "cell_type": "markdown",
   "id": "320d9628-bb34-437f-a9d6-d4c15df7a841",
   "metadata": {
    "panel-layout": {
     "height": 85.46875,
     "visible": true,
     "width": 100
    }
   },
   "source": [
    "#### Чтобы с большей уверенностью знать о параметрах генеральной совокупности, или для сравнения параметров различных выборок (в A/B тестировании), применяются доверительные интервалы.\n",
    "#### Рассчитаем 95% доверительный интервал (показывает, что с уровнем доверия в 95% мы можем полагать, что истинное среднее значение для длительности в генеральной совокупности фильмов/шоу нетфликса, лежит в данном интервале) для средней длительности. "
   ]
  },
  {
   "cell_type": "code",
   "execution_count": 34,
   "id": "f0357453-ec48-4a27-a838-ad9382afdb74",
   "metadata": {
    "panel-layout": {
     "height": 788.59375,
     "visible": true,
     "width": 100
    }
   },
   "outputs": [
    {
     "name": "stderr",
     "output_type": "stream",
     "text": [
      "C:\\Users\\perfe\\AppData\\Local\\Temp\\ipykernel_2548\\74984075.py:1: UserWarning: scipy.stats.shapiro: For N > 5000, computed p-value may not be accurate. Current N is 6131.\n",
      "  shapiro_stat, shapiro_p = shapiro(df_movie['Количество минут/сезонов'])\n"
     ]
    },
    {
     "data": {
      "text/plain": [
       "{'Тест Шапиро-Уилка': {'statistic': 0.9741025535094473,\n",
       "  'p_value': 6.30123950232737e-32},\n",
       " 'Критерий Колмогорова-Смирнова': {'statistic': 0.0843786240535711,\n",
       "  'p_value': 2.007967768258251e-38}}"
      ]
     },
     "execution_count": 34,
     "metadata": {},
     "output_type": "execute_result"
    }
   ],
   "source": [
    "shapiro_stat, shapiro_p = shapiro(df_movie['Количество минут/сезонов'])\n",
    "\n",
    "ks_stat, ks_p = kstest(df_movie['Количество минут/сезонов'], 'norm', \n",
    "                       args=(df_movie['Количество минут/сезонов'].mean(), \n",
    "                             df_movie['Количество минут/сезонов'].std(ddof=1)))\n",
    "\n",
    "{\n",
    "    \"Тест Шапиро-Уилка\": {\"statistic\": shapiro_stat, \"p_value\": shapiro_p},\n",
    "    \"Критерий Колмогорова-Смирнова\": {\"statistic\": ks_stat, \"p_value\": ks_p}\n",
    "}"
   ]
  },
  {
   "cell_type": "markdown",
   "id": "6d5ab96d-d07e-4dc6-8fde-f3c4262bf4c0",
   "metadata": {
    "panel-layout": {
     "height": 68.33984375,
     "visible": true,
     "width": 100
    }
   },
   "source": [
    "#### Отклоняем гипотезу о нормальности данных для распределения длительности фильмов. А для распределения длительности шоу на графике видно, что данные не нормальны.\n",
    "\n",
    "#### Поэтому будем вычислять доверительные интервалы с помощью bootstrap"
   ]
  },
  {
   "cell_type": "code",
   "execution_count": 35,
   "id": "327793e9-cbc0-45ad-94b6-cbf688783836",
   "metadata": {
    "panel-layout": {
     "height": 700.99609375,
     "visible": true,
     "width": 100
    }
   },
   "outputs": [
    {
     "name": "stdout",
     "output_type": "stream",
     "text": [
      "95% Доверительный интервал с использованием бутстраппинга: (98.77311205349862, 100.19006279562876)\n"
     ]
    }
   ],
   "source": [
    "def bootstrap(data:pd.Series, n_iterations=10_000, func=np.mean, confidence:float=0.95):\n",
    "    bootstrap_means = []\n",
    "    n = len(data)\n",
    "    for i in range(n_iterations):\n",
    "        sample = data.sample(n=n,replace=True, random_state=1+i)\n",
    "        bootstrap_means.append(func(sample))\n",
    "    \n",
    "    # Вычисление доверительного интервала\n",
    "    alpha = 100*((1 - confidence)/2)\n",
    "    ci_lower = np.percentile(bootstrap_means, alpha)\n",
    "    ci_upper = np.percentile(bootstrap_means, 100-alpha)\n",
    "    return print(f\"95% Доверительный интервал с использованием бутстраппинга: ({ci_lower}, {ci_upper})\")\n",
    "\n",
    "bootstrap(df_movie['Количество минут/сезонов'])"
   ]
  },
  {
   "cell_type": "markdown",
   "id": "73aff797-7893-4eb6-b8a0-b14c7d32f49b",
   "metadata": {
    "panel-layout": {
     "height": 43.18359375,
     "visible": true,
     "width": 100
    }
   },
   "source": [
    "#### Для сравнения рассчитаем классический параметрический метод, который обычно применяется для случаев, где данные распределены нормально"
   ]
  },
  {
   "cell_type": "code",
   "execution_count": 36,
   "id": "5e593816-d0ff-4bda-8e33-2f448641c1b5",
   "metadata": {
    "panel-layout": {
     "height": 700.99609375,
     "visible": true,
     "width": 100
    }
   },
   "outputs": [
    {
     "name": "stdout",
     "output_type": "stream",
     "text": [
      "95% Доверительный интервал параметрическим методом: (98.77531286918779, 100.17722342179249)\n"
     ]
    }
   ],
   "source": [
    "mean = df_movie['Количество минут/сезонов'].mean()\n",
    "std_dev = df_movie['Количество минут/сезонов'].std(ddof=1)\n",
    "\n",
    "n = len(df_movie['Количество минут/сезонов'])\n",
    "\n",
    "# 95% доверительный интервал\n",
    "confidence = 0.95\n",
    "z = norm.ppf((1 + confidence) / 2)\n",
    "margin_of_error = z * (std_dev / np.sqrt(n))\n",
    "ci_lower = mean - margin_of_error\n",
    "ci_upper = mean + margin_of_error\n",
    "\n",
    "print(f\"95% Доверительный интервал параметрическим методом: ({ci_lower}, {ci_upper})\")"
   ]
  },
  {
   "cell_type": "markdown",
   "id": "81cd0526-d383-4922-a940-4ef32553ea96",
   "metadata": {
    "panel-layout": {
     "height": 43.18359375,
     "visible": true,
     "width": 100
    }
   },
   "source": [
    "#### Так как наша выборка состоит из большого числа значений, параметрический вариант справляется так же хорошо, как и bootstrap, из-за ЦПТ"
   ]
  },
  {
   "cell_type": "markdown",
   "id": "741de20e-528b-414f-b0bf-14de3b735f9d",
   "metadata": {
    "panel-layout": {
     "height": 43.18359375,
     "visible": true,
     "width": 100
    }
   },
   "source": [
    "#### Теперь рассчитаем с помощью bootstrap доверительный интервал для шоу"
   ]
  },
  {
   "cell_type": "code",
   "execution_count": 37,
   "id": "cae3072e-1bc3-4f6d-bc9e-f6c604910324",
   "metadata": {
    "panel-layout": {
     "height": 700.99609375,
     "visible": true,
     "width": 100
    }
   },
   "outputs": [
    {
     "name": "stdout",
     "output_type": "stream",
     "text": [
      "95% Доверительный интервал с использованием бутстраппинга: (1.7070254110612855, 1.8243647234678624)\n"
     ]
    }
   ],
   "source": [
    "bootstrap(df_show['Количество минут/сезонов'])"
   ]
  },
  {
   "cell_type": "markdown",
   "id": "5448615b-c7d6-42e8-8b39-6f1075178e60",
   "metadata": {},
   "source": [
    "#### К слову можно рассчитать доверительные интервалы и для других параметров, например для стандартного отклонения"
   ]
  },
  {
   "cell_type": "code",
   "execution_count": 38,
   "id": "e9b347e7-2f56-4325-83f0-8c0bdd9c9cf3",
   "metadata": {},
   "outputs": [
    {
     "name": "stdout",
     "output_type": "stream",
     "text": [
      "95% Доверительный интервал с использованием бутстраппинга: (27.34744067654142, 28.677686867986285)\n"
     ]
    }
   ],
   "source": [
    "bootstrap(df_movie['Количество минут/сезонов'], func=np.std) # стандартное отклонение длительности фильмов"
   ]
  },
  {
   "cell_type": "markdown",
   "id": "e944fcae-a142-42f0-a0b9-d136c5eabf0e",
   "metadata": {
    "panel-layout": {
     "height": 43.18359375,
     "visible": true,
     "width": 100
    }
   },
   "source": [
    "#### Отобразим топ-10 стран по количеству выпущеных фильмов/шоу\n",
    "#### Столбцы country (страны производства) и listed_in (жанры) в некоторых строках содержат несколько значений перечисленных через запятую. Поэтому для корректного отображения топ-10 стран нам нужно строки, содержащие несколько значений разбить так, что каждый элемент таких строк будет содержаться в отдельной строке. "
   ]
  },
  {
   "cell_type": "code",
   "execution_count": 39,
   "id": "eca3ea32-35bd-4b6d-acad-b5f56812863d",
   "metadata": {},
   "outputs": [
    {
     "data": {
      "text/plain": [
       "'United States, China, Canada'"
      ]
     },
     "execution_count": 39,
     "metadata": {},
     "output_type": "execute_result"
    }
   ],
   "source": [
    "df['country'].sample(1,random_state=12).iloc[0] # Пример строки, в которой указаны несколько стран"
   ]
  },
  {
   "cell_type": "code",
   "execution_count": 40,
   "id": "b76fc331-3bbd-4e11-8950-c033ac23d9d2",
   "metadata": {},
   "outputs": [
    {
     "data": {
      "text/plain": [
       "0       United States\n",
       "1        South Africa\n",
       "4               India\n",
       "7       United States\n",
       "7               Ghana\n",
       "            ...      \n",
       "8801           Jordan\n",
       "8802    United States\n",
       "8804    United States\n",
       "8805    United States\n",
       "8806            India\n",
       "Name: country, Length: 10019, dtype: object"
      ]
     },
     "execution_count": 40,
     "metadata": {},
     "output_type": "execute_result"
    }
   ],
   "source": [
    "df_country_exploded = df['country'].dropna().str.split(',').explode().str.strip()\n",
    "df_country_exploded"
   ]
  },
  {
   "cell_type": "code",
   "execution_count": 41,
   "id": "6022a557-3ea4-44a0-b3d3-24f784f87a74",
   "metadata": {},
   "outputs": [
    {
     "data": {
      "text/html": [
       "<div>\n",
       "<style scoped>\n",
       "    .dataframe tbody tr th:only-of-type {\n",
       "        vertical-align: middle;\n",
       "    }\n",
       "\n",
       "    .dataframe tbody tr th {\n",
       "        vertical-align: top;\n",
       "    }\n",
       "\n",
       "    .dataframe thead th {\n",
       "        text-align: right;\n",
       "    }\n",
       "</style>\n",
       "<table border=\"1\" class=\"dataframe\">\n",
       "  <thead>\n",
       "    <tr style=\"text-align: right;\">\n",
       "      <th></th>\n",
       "      <th>country</th>\n",
       "      <th>count</th>\n",
       "    </tr>\n",
       "  </thead>\n",
       "  <tbody>\n",
       "    <tr>\n",
       "      <th>0</th>\n",
       "      <td>United States</td>\n",
       "      <td>3690</td>\n",
       "    </tr>\n",
       "    <tr>\n",
       "      <th>1</th>\n",
       "      <td>India</td>\n",
       "      <td>1046</td>\n",
       "    </tr>\n",
       "    <tr>\n",
       "      <th>2</th>\n",
       "      <td>United Kingdom</td>\n",
       "      <td>806</td>\n",
       "    </tr>\n",
       "    <tr>\n",
       "      <th>3</th>\n",
       "      <td>Canada</td>\n",
       "      <td>445</td>\n",
       "    </tr>\n",
       "    <tr>\n",
       "      <th>4</th>\n",
       "      <td>France</td>\n",
       "      <td>393</td>\n",
       "    </tr>\n",
       "    <tr>\n",
       "      <th>5</th>\n",
       "      <td>Japan</td>\n",
       "      <td>318</td>\n",
       "    </tr>\n",
       "    <tr>\n",
       "      <th>6</th>\n",
       "      <td>Spain</td>\n",
       "      <td>232</td>\n",
       "    </tr>\n",
       "    <tr>\n",
       "      <th>7</th>\n",
       "      <td>South Korea</td>\n",
       "      <td>231</td>\n",
       "    </tr>\n",
       "    <tr>\n",
       "      <th>8</th>\n",
       "      <td>Germany</td>\n",
       "      <td>226</td>\n",
       "    </tr>\n",
       "    <tr>\n",
       "      <th>9</th>\n",
       "      <td>Mexico</td>\n",
       "      <td>169</td>\n",
       "    </tr>\n",
       "  </tbody>\n",
       "</table>\n",
       "</div>"
      ],
      "text/plain": [
       "          country  count\n",
       "0   United States   3690\n",
       "1           India   1046\n",
       "2  United Kingdom    806\n",
       "3          Canada    445\n",
       "4          France    393\n",
       "5           Japan    318\n",
       "6           Spain    232\n",
       "7     South Korea    231\n",
       "8         Germany    226\n",
       "9          Mexico    169"
      ]
     },
     "execution_count": 41,
     "metadata": {},
     "output_type": "execute_result"
    }
   ],
   "source": [
    "df_country_exploded_top10 = df_country_exploded.value_counts().reset_index().head(10)\n",
    "df_country_exploded_top10"
   ]
  },
  {
   "cell_type": "code",
   "execution_count": 42,
   "id": "b0e8fa6e-a073-48b5-99c4-61ddb23b857f",
   "metadata": {
    "panel-layout": {
     "height": 730,
     "visible": true,
     "width": 100
    }
   },
   "outputs": [
    {
     "data": {
      "image/png": "[encoded data removed]",
      "text/plain": [
       "<Figure size 1000x500 with 1 Axes>"
      ]
     },
     "metadata": {},
     "output_type": "display_data"
    }
   ],
   "source": [
    "plt.figure(figsize=(10, 5))\n",
    "ax = sns.barplot(data=df_country_exploded_top10, x='count', y='country')\n",
    "\n",
    "\n",
    "# Добавление значений на график\n",
    "for index, row in df_country_exploded_top10.iterrows():\n",
    "    ax.text(row['count'], index, f'{row[\"count\"]}', va='center', ha='left', fontsize=10)\n",
    "\n",
    "plt.title('Топ-10 стран по количеству фильмов и шоу на Netflix')\n",
    "plt.xlabel('Количество')\n",
    "plt.ylabel('Страны')\n",
    "\n",
    "plt.show()"
   ]
  },
  {
   "cell_type": "markdown",
   "id": "6594d302-c5c3-4bf7-952c-801a7ed1c7e2",
   "metadata": {},
   "source": [
    "#### Проведем анализ каждого десятилетия выпуска фильмов на среднюю продолжительность фильмов и шоу"
   ]
  },
  {
   "cell_type": "code",
   "execution_count": 43,
   "id": "6adce72d-b30e-470f-a697-1d43a0b8f405",
   "metadata": {},
   "outputs": [
    {
     "name": "stderr",
     "output_type": "stream",
     "text": [
      "C:\\Users\\perfe\\AppData\\Local\\Temp\\ipykernel_2548\\942146356.py:1: SettingWithCopyWarning: \n",
      "A value is trying to be set on a copy of a slice from a DataFrame.\n",
      "Try using .loc[row_indexer,col_indexer] = value instead\n",
      "\n",
      "See the caveats in the documentation: https://pandas.pydata.org/pandas-docs/stable/user_guide/indexing.html#returning-a-view-versus-a-copy\n",
      "  df_movie['Десятилетие выпуска'] = (df_movie['release_year'] // 10) * 10\n",
      "C:\\Users\\perfe\\AppData\\Local\\Temp\\ipykernel_2548\\942146356.py:2: SettingWithCopyWarning: \n",
      "A value is trying to be set on a copy of a slice from a DataFrame.\n",
      "Try using .loc[row_indexer,col_indexer] = value instead\n",
      "\n",
      "See the caveats in the documentation: https://pandas.pydata.org/pandas-docs/stable/user_guide/indexing.html#returning-a-view-versus-a-copy\n",
      "  df_show['Десятилетие выпуска'] = (df_show['release_year'] // 10) * 10\n"
     ]
    }
   ],
   "source": [
    "df_movie['Десятилетие выпуска'] = (df_movie['release_year'] // 10) * 10\n",
    "df_show['Десятилетие выпуска'] = (df_show['release_year'] // 10) * 10"
   ]
  },
  {
   "cell_type": "code",
   "execution_count": 44,
   "id": "4eb193e0-981b-41e6-af35-188de3c70d29",
   "metadata": {},
   "outputs": [
    {
     "data": {
      "image/png": "[encoded data removed]",
      "text/plain": [
       "<Figure size 640x480 with 1 Axes>"
      ]
     },
     "metadata": {},
     "output_type": "display_data"
    }
   ],
   "source": [
    "sns.barplot(data=df_movie.groupby(['Десятилетие выпуска'])['Количество минут/сезонов'].mean().reset_index(), x = 'Десятилетие выпуска', y='Количество минут/сезонов')\n",
    "plt.title('Средняя продолжительность фильмов в разрезе десятилетий выпуска')\n",
    "plt.ylabel('Среднее количество минут')\n",
    "plt.xlabel('Десятилетие выпуска')\n",
    "plt.show()"
   ]
  },
  {
   "cell_type": "code",
   "execution_count": 45,
   "id": "f71d6ea9-cef5-4ef3-a804-2c029ea85073",
   "metadata": {},
   "outputs": [
    {
     "data": {
      "image/png": "[encoded data removed]",
      "text/plain": [
       "<Figure size 640x480 with 1 Axes>"
      ]
     },
     "metadata": {},
     "output_type": "display_data"
    }
   ],
   "source": [
    "sns.barplot(data=df_show.groupby(['Десятилетие выпуска'])['Количество минут/сезонов'].mean().reset_index(), x = 'Десятилетие выпуска', y='Количество минут/сезонов')\n",
    "plt.title('Среднее количество сезонов шоу в разрезе десятилетий выпуска')\n",
    "plt.ylabel('Среднее количество сезонов')\n",
    "plt.xlabel('Десятилетие выпуска')\n",
    "plt.show()"
   ]
  },
  {
   "cell_type": "markdown",
   "id": "49cd53e1-068e-4c9b-8ec6-495f31ff7175",
   "metadata": {},
   "source": [
    "#### Как видно, в последние 2 десятилетия количество и сезонов и минут снижается в сравнении с предыдущими"
   ]
  },
  {
   "cell_type": "code",
   "execution_count": 46,
   "id": "67d820be-ee1a-4a51-8407-fe1c280b9d01",
   "metadata": {
    "panel-layout": {
     "height": 730,
     "visible": true,
     "width": 100
    }
   },
   "outputs": [
    {
     "data": {
      "image/png": "[encoded data removed]",
      "text/plain": [
       "<Figure size 640x480 with 1 Axes>"
      ]
     },
     "metadata": {},
     "output_type": "display_data"
    }
   ],
   "source": [
    "sns.boxplot(data=df_movie, x='Количество минут/сезонов')\n",
    "plt.title('Boxplot продолжительности фильмов')\n",
    "plt.xlabel('Количество минут')\n",
    "\n",
    "plt.show()"
   ]
  },
  {
   "cell_type": "markdown",
   "id": "211293f6-17bb-48df-aa8e-31ca06475db5",
   "metadata": {},
   "source": [
    "#### Топ-20 самых популярных жанров"
   ]
  },
  {
   "cell_type": "code",
   "execution_count": 47,
   "id": "5a303886-2dbc-42dc-9a08-491d18f79ccd",
   "metadata": {},
   "outputs": [],
   "source": [
    "join_genres = ' '.join(df['listed_in'].dropna().str.lower().str.strip().tolist())\n",
    "join_genres = re.sub(r'[^\\w\\s]', '', join_genres)"
   ]
  },
  {
   "cell_type": "code",
   "execution_count": 48,
   "id": "2304d005-78dc-4d1a-a7b7-2222dab154a9",
   "metadata": {},
   "outputs": [
    {
     "data": {
      "image/png": "[encoded data removed]",
      "text/plain": [
       "<Figure size 1500x600 with 1 Axes>"
      ]
     },
     "metadata": {},
     "output_type": "display_data"
    }
   ],
   "source": [
    "wordcloud = WordCloud(\n",
    "    width=800,              \n",
    "    height=400,             \n",
    "    background_color='white',\n",
    "    margin=10,\n",
    "    collocations=False,\n",
    "    stopwords=['movies', 'show', 'tv', 'shows'],\n",
    "    max_words=20,          \n",
    "    random_state=1         \n",
    ").generate(join_genres)\n",
    "\n",
    "plt.figure(figsize=(15, 6))\n",
    "plt.imshow(wordcloud)\n",
    "plt.axis('off')\n",
    "plt.show()"
   ]
  },
  {
   "cell_type": "markdown",
   "id": "58d8c64b-180b-4136-a10b-65ac3c79b7ee",
   "metadata": {},
   "source": [
    "#### Некоторые выводы:\n",
    "- Основная масса фильмов длится 50–150 минут, реже встречаются короткие (5–10 мин), а ещё реже очень длинные (200+)\n",
    "- Шоу, в основном, идут 1–3 сезона, но встречаются долгоживущие проекты\n",
    "- США лидирует по количеству контента, значительно превосходя остальные страны\n",
    "- Использование доверительных интервалов даёт оценку, что средняя длительность фильмов 99-100 минут (с 95% уровнем доверия)\n",
    "- Аномальные значения продолжительности более 250 минут оказались ошибочными\n",
    "- Данные столбца date_added тоже выглядят адекватно, без аномалий в прошлом и будущем\n",
    "- В последние 2 десятилетия идет тренд на снижение продолжительности фильмов и шоу"
   ]
  }
 ],
 "metadata": {
  "kernelspec": {
   "display_name": "Python 3 (ipykernel)",
   "language": "python",
   "name": "python3"
  },
  "language_info": {
   "codemirror_mode": {
    "name": "ipython",
    "version": 3
   },
   "file_extension": ".py",
   "mimetype": "text/x-python",
   "name": "python",
   "nbconvert_exporter": "python",
   "pygments_lexer": "ipython3",
   "version": "3.12.3"
  },
  "panel-cell-order": [
   "000c0b83-576e-4154-94cc-7bcc6a6cebb2",
   "4b4f2cda-5872-4139-a956-1d9c453c25dc",
   "8069cd12-c2f7-4d3e-976a-65b12f09a4ef",
   "8dc46a24-fe96-4639-a3c9-82acec402986",
   "9dee91a8-473c-4944-8819-5e52d36e8a3d",
   "b6668775-5894-4681-a645-bf90b2693779",
   "e652e657-9462-4169-a0ba-6eb4fb357c93",
   "3dd91db7-302d-42e7-9ff1-bc5d43ff3754",
   "6dc5957b-a5ca-4e2d-867b-3fd5b9e61245",
   "60e3de8c-72f3-4f1d-a92a-208c63749e51",
   "42b1604a-40c6-43c4-9bd8-6d4faecb8a87",
   "fb737250-5a9b-41ee-903c-8f2f2e0d2cc3",
   "21bca044-b57c-4d3a-a58f-d0987e118b8b",
   "6745508c-df0b-4d44-b65f-5c25de97f171",
   "e75da588-8c3f-423e-a98e-41cc900bd8b6",
   "48272798-bad6-4a78-9edf-f1cf90fe43b6",
   "428f396d-9918-4514-8a3b-2e6f7f44fc4c",
   "a3c2f2bc-2b8b-4946-bec6-cf3f105cde1a",
   "ebedcb3c-7065-4bf4-920a-64aa5eeefff0",
   "33bb3423-209a-4dad-bf8a-2b9f8dc5f923",
   "589c3aa3-10d3-4aab-a77a-e7f5c9902855",
   "5590e9a9-73dc-40eb-a64f-323f74e2ded8",
   "351e0657-485c-4173-a4e8-a0abb6205f21",
   "71830ac5-5563-4d06-8d86-0aac4d14ce0e",
   "75626dc8-23e5-4ad7-bba6-b69b27d0d46b",
   "7f33b56a-59d2-444f-83a8-b35dde8581b8",
   "6c30fc78-5b91-4088-83f0-614851ef0370",
   "b61e10ce-e290-4735-a7f6-4a422325dbef",
   "7a0a83b9-1465-486d-9fe8-750aa1cacdba",
   "e39c6478-7f2b-40a7-ab22-e9fc5c9ef6d9",
   "87840504-b934-49d6-a14e-aaf93000aec1",
   "5e067772-e7a0-4791-be92-1f19de595b89",
   "aaf321f4-87d7-4ca6-a585-b0c63cb053d3",
   "e2456e2b-8e6d-460b-9a0b-72f20c3f75de",
   "dca340a0-70ff-4a7e-ad15-350f2c7be7ea",
   "a49e5058-0e7e-4c49-a394-923fb7e36354",
   "3383eb86-fbae-4df1-977c-f1274986fcf4",
   "9ff4813f-3222-44be-a30f-b4070700019d",
   "e1f03ce6-b086-4221-803a-10b45e4ec63a",
   "fef468d0-9426-4c8d-bfef-9025ea9caf6f",
   "39f3d8ef-4ac6-4f4b-91f9-564b5be8a064",
   "38846515-6c45-48c8-af1e-3b759b6a7361",
   "cede77c1-a0c4-469d-a16e-a18f13ff4cdc",
   "17d2fb0d-2514-4e5c-b403-d46ecc40e8cb",
   "320d9628-bb34-437f-a9d6-d4c15df7a841",
   "f0357453-ec48-4a27-a838-ad9382afdb74",
   "6d5ab96d-d07e-4dc6-8fde-f3c4262bf4c0",
   "327793e9-cbc0-45ad-94b6-cbf688783836",
   "73aff797-7893-4eb6-b8a0-b14c7d32f49b",
   "5e593816-d0ff-4bda-8e33-2f448641c1b5",
   "81cd0526-d383-4922-a940-4ef32553ea96",
   "741de20e-528b-414f-b0bf-14de3b735f9d",
   "cae3072e-1bc3-4f6d-bc9e-f6c604910324",
   "e944fcae-a142-42f0-a0b9-d136c5eabf0e",
   "8c0eba67-fd79-4b6d-ad66-28775fc7fe88",
   "b0e8fa6e-a073-48b5-99c4-61ddb23b857f",
   "67d820be-ee1a-4a51-8407-fe1c280b9d01"
  ]
 },
 "nbformat": 4,
 "nbformat_minor": 5
}
